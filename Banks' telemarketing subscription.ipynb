{
 "cells": [
  {
   "cell_type": "markdown",
   "metadata": {},
   "source": [
    "# BANK MARKETING CAMPAIGN EFFECTIVENESS \n",
    "\n",
    "#### BACKGROUND :\n",
    "\n",
    "The client is from banking sector and they conduct marketing campaign over phone to convert the liability customer (depositor) to Asset cusotmer (borrower) to earn the interest to increase revenue. Sometimes regular followup is needed in order to subscribe to the bank's term deposit.\n",
    "\n",
    "#### OBJECTIVE :\n",
    "\n",
    "The client has rich cusotmer records in their repository and they want leverage those to predict whether the customer will subscribe to fixed-term deposit products the bank is offering. \n",
    "\n",
    "#### DATA: \n",
    "\n",
    "The data has 17 customer attaibutes for 45211 customers. The data has customer's demographic information, relationship with the bank and customer response to the last personal loan campaign. Target column contains information regarding subscription to the term deposit.\n",
    "\n",
    "#### ATTRIBUTE INFORMATION :\n",
    "\n",
    "1. age : Age of the customer  \n",
    "2. job : type of job \n",
    "3. marital : marital status \n",
    "4. education : Education level of the customer\n",
    "5. default: has credit in default? \n",
    "6. balance: average yearly balance \n",
    "7. housing: has housing loan?  \n",
    "8. loan: has personal loan? \n",
    "9. contact: contact communication type \n",
    "10. day: last contact day of the month\n",
    "11. month: last contact month of year \n",
    "12. duration : last contact duration, in seconds \n",
    "13. campaign: number of contacts performed during this campaign \n",
    "14. pdays : number of days that passed by after the client  was last contacted \n",
    "15. previous: number of contacts performed before this  campaign \n",
    "16. poutcome : outcome of the previous marketing  campaign\n",
    "17. target: has the client subscribed a term deposit? \n",
    "\n",
    "#### METHODOLOGY :\n",
    "\n",
    "As a part of the machine larning exercise, several activities are perfomed to identify potential customers. Some of those are\n",
    "       a. Importing data\n",
    "       b. Data preparation and transformation.\n",
    "       c. Spliting dataset into training and test sets.\n",
    "       d. Model building and evalution\n"
   ]
  },
  {
   "cell_type": "markdown",
   "metadata": {},
   "source": [
    "### SEC 1 : Calling relevant libraries/modules and importing dataset"
   ]
  },
  {
   "cell_type": "markdown",
   "metadata": {},
   "source": [
    "### 1.1 Libraries and Modules"
   ]
  },
  {
   "cell_type": "code",
   "execution_count": 12,
   "metadata": {},
   "outputs": [],
   "source": [
    "# Data frame and array\n",
    "import numpy as np\n",
    "import pandas as pd\n",
    "import random\n",
    "\n",
    "# Graph and visualization\n",
    "import seaborn as sns\n",
    "import matplotlib.pyplot as plt\n",
    "%matplotlib inline\n",
    "\n",
    "# Data preprocessing and transformation\n",
    "from sklearn.preprocessing import LabelEncoder\n",
    "from sklearn.preprocessing import MinMaxScaler, StandardScaler\n",
    "from sklearn.preprocessing import LabelEncoder\n",
    "from sklearn import preprocessing\n",
    "from sklearn.model_selection import train_test_split\n",
    "from sklearn.preprocessing import PolynomialFeatures\n",
    "\n",
    "# Warnings\n",
    "import warnings\n",
    "warnings.filterwarnings(\"ignore\")\n",
    "\n",
    "# Feature selection\n",
    "from sklearn.decomposition import PCA\n",
    "\n",
    "# Modelling algorithm\n",
    "#---Part-1\n",
    "from sklearn.linear_model import LogisticRegression\n",
    "from sklearn.naive_bayes import GaussianNB\n",
    "from sklearn.neighbors import KNeighborsClassifier\n",
    "from sklearn import svm\n",
    "from sklearn.svm import SVC\n",
    "from sklearn.svm import LinearSVC\n",
    "from sklearn.tree import DecisionTreeClassifier\n",
    "\n",
    "# ---Part-2 (Ensembling technique)\n",
    "from sklearn.ensemble import BaggingClassifier\n",
    "from sklearn.ensemble import AdaBoostClassifier\n",
    "from sklearn.ensemble import GradientBoostingClassifier\n",
    "from sklearn.ensemble import RandomForestClassifier\n",
    "\n",
    "# Control search\n",
    "from sklearn.model_selection import GridSearchCV\n",
    "\n",
    "# Performance and accuracy\n",
    "from sklearn import metrics\n",
    "from sklearn.metrics import accuracy_score"
   ]
  },
  {
   "cell_type": "markdown",
   "metadata": {},
   "source": [
    "### 1.2 Importing dataset"
   ]
  },
  {
   "cell_type": "code",
   "execution_count": 13,
   "metadata": {},
   "outputs": [
    {
     "data": {
      "text/html": [
       "<div>\n",
       "<style scoped>\n",
       "    .dataframe tbody tr th:only-of-type {\n",
       "        vertical-align: middle;\n",
       "    }\n",
       "\n",
       "    .dataframe tbody tr th {\n",
       "        vertical-align: top;\n",
       "    }\n",
       "\n",
       "    .dataframe thead th {\n",
       "        text-align: right;\n",
       "    }\n",
       "</style>\n",
       "<table border=\"1\" class=\"dataframe\">\n",
       "  <thead>\n",
       "    <tr style=\"text-align: right;\">\n",
       "      <th></th>\n",
       "      <th>age</th>\n",
       "      <th>job</th>\n",
       "      <th>marital</th>\n",
       "      <th>education</th>\n",
       "      <th>default</th>\n",
       "      <th>balance</th>\n",
       "      <th>housing</th>\n",
       "      <th>loan</th>\n",
       "      <th>contact</th>\n",
       "      <th>day</th>\n",
       "      <th>month</th>\n",
       "      <th>duration</th>\n",
       "      <th>campaign</th>\n",
       "      <th>pdays</th>\n",
       "      <th>previous</th>\n",
       "      <th>poutcome</th>\n",
       "      <th>Target</th>\n",
       "    </tr>\n",
       "  </thead>\n",
       "  <tbody>\n",
       "    <tr>\n",
       "      <th>0</th>\n",
       "      <td>58</td>\n",
       "      <td>management</td>\n",
       "      <td>married</td>\n",
       "      <td>tertiary</td>\n",
       "      <td>no</td>\n",
       "      <td>2143</td>\n",
       "      <td>yes</td>\n",
       "      <td>no</td>\n",
       "      <td>unknown</td>\n",
       "      <td>5</td>\n",
       "      <td>may</td>\n",
       "      <td>261</td>\n",
       "      <td>1</td>\n",
       "      <td>-1</td>\n",
       "      <td>0</td>\n",
       "      <td>unknown</td>\n",
       "      <td>no</td>\n",
       "    </tr>\n",
       "    <tr>\n",
       "      <th>1</th>\n",
       "      <td>44</td>\n",
       "      <td>technician</td>\n",
       "      <td>single</td>\n",
       "      <td>secondary</td>\n",
       "      <td>no</td>\n",
       "      <td>29</td>\n",
       "      <td>yes</td>\n",
       "      <td>no</td>\n",
       "      <td>unknown</td>\n",
       "      <td>5</td>\n",
       "      <td>may</td>\n",
       "      <td>151</td>\n",
       "      <td>1</td>\n",
       "      <td>-1</td>\n",
       "      <td>0</td>\n",
       "      <td>unknown</td>\n",
       "      <td>no</td>\n",
       "    </tr>\n",
       "    <tr>\n",
       "      <th>2</th>\n",
       "      <td>33</td>\n",
       "      <td>entrepreneur</td>\n",
       "      <td>married</td>\n",
       "      <td>secondary</td>\n",
       "      <td>no</td>\n",
       "      <td>2</td>\n",
       "      <td>yes</td>\n",
       "      <td>yes</td>\n",
       "      <td>unknown</td>\n",
       "      <td>5</td>\n",
       "      <td>may</td>\n",
       "      <td>76</td>\n",
       "      <td>1</td>\n",
       "      <td>-1</td>\n",
       "      <td>0</td>\n",
       "      <td>unknown</td>\n",
       "      <td>no</td>\n",
       "    </tr>\n",
       "    <tr>\n",
       "      <th>3</th>\n",
       "      <td>47</td>\n",
       "      <td>blue-collar</td>\n",
       "      <td>married</td>\n",
       "      <td>unknown</td>\n",
       "      <td>no</td>\n",
       "      <td>1506</td>\n",
       "      <td>yes</td>\n",
       "      <td>no</td>\n",
       "      <td>unknown</td>\n",
       "      <td>5</td>\n",
       "      <td>may</td>\n",
       "      <td>92</td>\n",
       "      <td>1</td>\n",
       "      <td>-1</td>\n",
       "      <td>0</td>\n",
       "      <td>unknown</td>\n",
       "      <td>no</td>\n",
       "    </tr>\n",
       "    <tr>\n",
       "      <th>4</th>\n",
       "      <td>33</td>\n",
       "      <td>unknown</td>\n",
       "      <td>single</td>\n",
       "      <td>unknown</td>\n",
       "      <td>no</td>\n",
       "      <td>1</td>\n",
       "      <td>no</td>\n",
       "      <td>no</td>\n",
       "      <td>unknown</td>\n",
       "      <td>5</td>\n",
       "      <td>may</td>\n",
       "      <td>198</td>\n",
       "      <td>1</td>\n",
       "      <td>-1</td>\n",
       "      <td>0</td>\n",
       "      <td>unknown</td>\n",
       "      <td>no</td>\n",
       "    </tr>\n",
       "  </tbody>\n",
       "</table>\n",
       "</div>"
      ],
      "text/plain": [
       "   age           job  marital  education default  balance housing loan  \\\n",
       "0   58    management  married   tertiary      no     2143     yes   no   \n",
       "1   44    technician   single  secondary      no       29     yes   no   \n",
       "2   33  entrepreneur  married  secondary      no        2     yes  yes   \n",
       "3   47   blue-collar  married    unknown      no     1506     yes   no   \n",
       "4   33       unknown   single    unknown      no        1      no   no   \n",
       "\n",
       "   contact  day month  duration  campaign  pdays  previous poutcome Target  \n",
       "0  unknown    5   may       261         1     -1         0  unknown     no  \n",
       "1  unknown    5   may       151         1     -1         0  unknown     no  \n",
       "2  unknown    5   may        76         1     -1         0  unknown     no  \n",
       "3  unknown    5   may        92         1     -1         0  unknown     no  \n",
       "4  unknown    5   may       198         1     -1         0  unknown     no  "
      ]
     },
     "execution_count": 13,
     "metadata": {},
     "output_type": "execute_result"
    }
   ],
   "source": [
    "# Defining the path to import the data\n",
    "path = \"C:/Users/user/Desktop/Great Learning/Supervised learning/Project 4_Ensemble techniques/Dataset/bank-full.csv\"\n",
    "data=pd.read_csv(path)\n",
    "data.head(5)"
   ]
  },
  {
   "cell_type": "code",
   "execution_count": 14,
   "metadata": {},
   "outputs": [
    {
     "data": {
      "text/plain": [
       "(45211, 17)"
      ]
     },
     "execution_count": 14,
     "metadata": {},
     "output_type": "execute_result"
    }
   ],
   "source": [
    "data.shape\n",
    "# The dataset contains information of 17 customer attributes for 45211 customers."
   ]
  },
  {
   "cell_type": "code",
   "execution_count": 15,
   "metadata": {},
   "outputs": [],
   "source": [
    "# Dropping duration column from the dataset\n",
    "loandata = data.drop(['duration'], axis=1)"
   ]
  },
  {
   "cell_type": "code",
   "execution_count": 16,
   "metadata": {},
   "outputs": [
    {
     "data": {
      "text/plain": [
       "(45211, 16)"
      ]
     },
     "execution_count": 16,
     "metadata": {},
     "output_type": "execute_result"
    }
   ],
   "source": [
    "loandata.shape"
   ]
  },
  {
   "cell_type": "markdown",
   "metadata": {},
   "source": [
    "##### ** The duration of the call can only be known once the call has been performed , hence the status of the outcome (Target Column) will be likely to be known. We have to drop this variable, else predictive model will not be a realistic one.  "
   ]
  },
  {
   "cell_type": "code",
   "execution_count": 17,
   "metadata": {},
   "outputs": [
    {
     "name": "stdout",
     "output_type": "stream",
     "text": [
      "<class 'pandas.core.frame.DataFrame'>\n",
      "RangeIndex: 45211 entries, 0 to 45210\n",
      "Data columns (total 16 columns):\n",
      "age          45211 non-null int64\n",
      "job          45211 non-null object\n",
      "marital      45211 non-null object\n",
      "education    45211 non-null object\n",
      "default      45211 non-null object\n",
      "balance      45211 non-null int64\n",
      "housing      45211 non-null object\n",
      "loan         45211 non-null object\n",
      "contact      45211 non-null object\n",
      "day          45211 non-null int64\n",
      "month        45211 non-null object\n",
      "campaign     45211 non-null int64\n",
      "pdays        45211 non-null int64\n",
      "previous     45211 non-null int64\n",
      "poutcome     45211 non-null object\n",
      "Target       45211 non-null object\n",
      "dtypes: int64(6), object(10)\n",
      "memory usage: 5.5+ MB\n"
     ]
    }
   ],
   "source": [
    "loandata.info() # Checking the missing value and data type. No missing value is present in the dataset."
   ]
  },
  {
   "cell_type": "code",
   "execution_count": 18,
   "metadata": {},
   "outputs": [],
   "source": [
    "# Creating a dictionary to convert all the day numbers to weekdays\n",
    "day_flag = {1: 'Sunday', 2: 'Monday', 3: 'Tuesday', 4: 'Wednesday', 5: 'Thrusday', 6: 'Friday', 7: 'Saturday', 8: 'Sunday', 9: 'Monday',10:'Tuesday', 11: 'Wednesday', 12 :'Thrusday',13: 'Friday', 14:'Saturday', 15:'Sunday', 16: 'Monday', 17: 'Tuesday', 18: 'Wednesday', 19:'Thrusday', 20: 'Friday', 21: 'Saturday', 22:'Sunday', 23: 'Monday', 24: 'Tuesday', 25:'Wednesday', 26:'Thrusday', 27:'Friday',28:'Saturday', 29: 'Sunday', 30:'Monday', 31:'Tuesday'}\n",
    "loandata['day'].replace(day_flag, inplace = True)"
   ]
  },
  {
   "cell_type": "markdown",
   "metadata": {},
   "source": [
    "## SEC 2 : Exploratory data analysis (EDA)"
   ]
  },
  {
   "cell_type": "code",
   "execution_count": 19,
   "metadata": {},
   "outputs": [
    {
     "data": {
      "text/html": [
       "<div>\n",
       "<style scoped>\n",
       "    .dataframe tbody tr th:only-of-type {\n",
       "        vertical-align: middle;\n",
       "    }\n",
       "\n",
       "    .dataframe tbody tr th {\n",
       "        vertical-align: top;\n",
       "    }\n",
       "\n",
       "    .dataframe thead th {\n",
       "        text-align: right;\n",
       "    }\n",
       "</style>\n",
       "<table border=\"1\" class=\"dataframe\">\n",
       "  <thead>\n",
       "    <tr style=\"text-align: right;\">\n",
       "      <th></th>\n",
       "      <th>count</th>\n",
       "      <th>mean</th>\n",
       "      <th>std</th>\n",
       "      <th>min</th>\n",
       "      <th>25%</th>\n",
       "      <th>50%</th>\n",
       "      <th>75%</th>\n",
       "      <th>max</th>\n",
       "    </tr>\n",
       "  </thead>\n",
       "  <tbody>\n",
       "    <tr>\n",
       "      <th>age</th>\n",
       "      <td>45211.0</td>\n",
       "      <td>40.936210</td>\n",
       "      <td>10.618762</td>\n",
       "      <td>18.0</td>\n",
       "      <td>33.0</td>\n",
       "      <td>39.0</td>\n",
       "      <td>48.0</td>\n",
       "      <td>95.0</td>\n",
       "    </tr>\n",
       "    <tr>\n",
       "      <th>balance</th>\n",
       "      <td>45211.0</td>\n",
       "      <td>1362.272058</td>\n",
       "      <td>3044.765829</td>\n",
       "      <td>-8019.0</td>\n",
       "      <td>72.0</td>\n",
       "      <td>448.0</td>\n",
       "      <td>1428.0</td>\n",
       "      <td>102127.0</td>\n",
       "    </tr>\n",
       "    <tr>\n",
       "      <th>campaign</th>\n",
       "      <td>45211.0</td>\n",
       "      <td>2.763841</td>\n",
       "      <td>3.098021</td>\n",
       "      <td>1.0</td>\n",
       "      <td>1.0</td>\n",
       "      <td>2.0</td>\n",
       "      <td>3.0</td>\n",
       "      <td>63.0</td>\n",
       "    </tr>\n",
       "    <tr>\n",
       "      <th>pdays</th>\n",
       "      <td>45211.0</td>\n",
       "      <td>40.197828</td>\n",
       "      <td>100.128746</td>\n",
       "      <td>-1.0</td>\n",
       "      <td>-1.0</td>\n",
       "      <td>-1.0</td>\n",
       "      <td>-1.0</td>\n",
       "      <td>871.0</td>\n",
       "    </tr>\n",
       "    <tr>\n",
       "      <th>previous</th>\n",
       "      <td>45211.0</td>\n",
       "      <td>0.580323</td>\n",
       "      <td>2.303441</td>\n",
       "      <td>0.0</td>\n",
       "      <td>0.0</td>\n",
       "      <td>0.0</td>\n",
       "      <td>0.0</td>\n",
       "      <td>275.0</td>\n",
       "    </tr>\n",
       "  </tbody>\n",
       "</table>\n",
       "</div>"
      ],
      "text/plain": [
       "            count         mean          std     min   25%    50%     75%  \\\n",
       "age       45211.0    40.936210    10.618762    18.0  33.0   39.0    48.0   \n",
       "balance   45211.0  1362.272058  3044.765829 -8019.0  72.0  448.0  1428.0   \n",
       "campaign  45211.0     2.763841     3.098021     1.0   1.0    2.0     3.0   \n",
       "pdays     45211.0    40.197828   100.128746    -1.0  -1.0   -1.0    -1.0   \n",
       "previous  45211.0     0.580323     2.303441     0.0   0.0    0.0     0.0   \n",
       "\n",
       "               max  \n",
       "age           95.0  \n",
       "balance   102127.0  \n",
       "campaign      63.0  \n",
       "pdays        871.0  \n",
       "previous     275.0  "
      ]
     },
     "execution_count": 19,
     "metadata": {},
     "output_type": "execute_result"
    }
   ],
   "source": [
    "loandata.describe().transpose()"
   ]
  },
  {
   "cell_type": "markdown",
   "metadata": {},
   "source": [
    "##### ** balance and pdays are highly right skewed  i.e. mean value is greater than median value. Majorly for the presence of some obseravtion with really high value. We will not going to cap the balance and pdays as some exceptional cases those values actually can be high. However , we will transform the dataset to address those issue"
   ]
  },
  {
   "cell_type": "code",
   "execution_count": 20,
   "metadata": {},
   "outputs": [
    {
     "data": {
      "text/plain": [
       "<matplotlib.axes._subplots.AxesSubplot at 0x1c4e9e713c8>"
      ]
     },
     "execution_count": 20,
     "metadata": {},
     "output_type": "execute_result"
    },
    {
     "data": {
      "image/png": "[encoded data removed]",
      "text/plain": [
       "<Figure size 432x288 with 1 Axes>"
      ]
     },
     "metadata": {
      "needs_background": "light"
     },
     "output_type": "display_data"
    }
   ],
   "source": [
    "# Checking the distrubtion of Target column\n",
    "sns.countplot(x=\"Target\", data=loandata)"
   ]
  },
  {
   "cell_type": "markdown",
   "metadata": {},
   "source": [
    "###### ** Dataset is not balanced as Target is more biased towards no class (not subscribe)"
   ]
  },
  {
   "cell_type": "markdown",
   "metadata": {},
   "source": [
    "#### Categorical Variables"
   ]
  },
  {
   "cell_type": "code",
   "execution_count": 14,
   "metadata": {},
   "outputs": [
    {
     "data": {
      "image/png": "[encoded data removed]",
      "text/plain": [
       "<Figure size 720x288 with 1 Axes>"
      ]
     },
     "metadata": {
      "needs_background": "light"
     },
     "output_type": "display_data"
    },
    {
     "data": {
      "image/png": "[encoded data removed]",
      "text/plain": [
       "<Figure size 720x288 with 1 Axes>"
      ]
     },
     "metadata": {
      "needs_background": "light"
     },
     "output_type": "display_data"
    },
    {
     "data": {
      "image/png": "[encoded data removed]",
      "text/plain": [
       "<Figure size 720x288 with 1 Axes>"
      ]
     },
     "metadata": {
      "needs_background": "light"
     },
     "output_type": "display_data"
    },
    {
     "data": {
      "image/png": "[encoded data removed]",
      "text/plain": [
       "<Figure size 720x288 with 1 Axes>"
      ]
     },
     "metadata": {
      "needs_background": "light"
     },
     "output_type": "display_data"
    },
    {
     "data": {
      "image/png": "[encoded data removed]",
      "text/plain": [
       "<Figure size 720x288 with 1 Axes>"
      ]
     },
     "metadata": {
      "needs_background": "light"
     },
     "output_type": "display_data"
    },
    {
     "data": {
      "image/png": "[encoded data removed]",
      "text/plain": [
       "<Figure size 720x288 with 1 Axes>"
      ]
     },
     "metadata": {
      "needs_background": "light"
     },
     "output_type": "display_data"
    },
    {
     "data": {
      "image/png": "[encoded data removed]",
      "text/plain": [
       "<Figure size 720x288 with 1 Axes>"
      ]
     },
     "metadata": {
      "needs_background": "light"
     },
     "output_type": "display_data"
    },
    {
     "data": {
      "image/png": "[encoded data removed]",
      "text/plain": [
       "<Figure size 720x288 with 1 Axes>"
      ]
     },
     "metadata": {
      "needs_background": "light"
     },
     "output_type": "display_data"
    },
    {
     "data": {
      "image/png": "[encoded data removed]",
      "text/plain": [
       "<Figure size 720x288 with 1 Axes>"
      ]
     },
     "metadata": {
      "needs_background": "light"
     },
     "output_type": "display_data"
    },
    {
     "data": {
      "image/png": "[encoded data removed]",
      "text/plain": [
       "<Figure size 720x288 with 1 Axes>"
      ]
     },
     "metadata": {
      "needs_background": "light"
     },
     "output_type": "display_data"
    },
    {
     "data": {
      "image/png": "[encoded data removed]",
      "text/plain": [
       "<Figure size 720x288 with 1 Axes>"
      ]
     },
     "metadata": {
      "needs_background": "light"
     },
     "output_type": "display_data"
    }
   ],
   "source": [
    "cat_variables = ['job', 'marital', 'education', 'default','housing','loan', 'contact', 'day','month', 'poutcome','Target']\n",
    "for i in cat_variables:\n",
    "    plt.figure(figsize=(10,4))\n",
    "    sns.barplot(loandata[i].value_counts().values, loandata[i].value_counts().index)\n",
    "    plt.title(i)\n",
    "    plt.tight_layout()"
   ]
  },
  {
   "cell_type": "markdown",
   "metadata": {},
   "source": [
    "##### Inference from Result : \n",
    "i) Majorly cusotmers are majorly married and doing blue-collar, Management job.\n",
    "ii) Most of the customer completed secondary education and maximum has no credit in de-fault.\n",
    "iii) They majorly contacted over cellular phone, mostly on Friday-staurday and in the month of may.\n",
    "iv) Data is not balanced accross subscription or non-subscription catergory for Target column.\n",
    "v) Lots of unknown value for some of the attributes like job, education, contact and poutcome. \n",
    "\n",
    "Strategy :\n",
    "\n",
    "We are not going to impute those missing/unknown values, instead of we will keep unknown as a separate catergory. The reason is that the \"out of time\"/\"out of sample\" dataset will have unknown values aswell and might have different underline trends. So, if we impute those unknown categories based on some trends/pattern that might not give the true picture in production with \"Out of time\"/\"Out of sample\" data."
   ]
  },
  {
   "cell_type": "markdown",
   "metadata": {},
   "source": [
    "#### Numeric Variables"
   ]
  },
  {
   "cell_type": "code",
   "execution_count": 21,
   "metadata": {},
   "outputs": [
    {
     "data": {
      "image/png": "[encoded data removed]",
      "text/plain": [
       "<Figure size 864x864 with 6 Axes>"
      ]
     },
     "metadata": {
      "needs_background": "light"
     },
     "output_type": "display_data"
    }
   ],
   "source": [
    "Numeric_variables = ['age', 'balance', 'campaign', 'pdays', 'previous']\n",
    "data.hist(column=Numeric_variables,bins = 25, figsize=(12,12))\n",
    "plt.subplots_adjust(wspace = 0.5, hspace = 0.5)\n",
    "plt.show()\n"
   ]
  },
  {
   "cell_type": "code",
   "execution_count": 22,
   "metadata": {},
   "outputs": [],
   "source": [
    "# Box plot to understand presence of extreme values in balance, duration, campaign & pdays"
   ]
  },
  {
   "cell_type": "code",
   "execution_count": 25,
   "metadata": {},
   "outputs": [
    {
     "data": {
      "text/plain": [
       "<matplotlib.axes._subplots.AxesSubplot at 0x1c4ea758da0>"
      ]
     },
     "execution_count": 25,
     "metadata": {},
     "output_type": "execute_result"
    },
    {
     "data": {
      "image/png": "[encoded data removed]",
      "text/plain": [
       "<Figure size 432x288 with 1 Axes>"
      ]
     },
     "metadata": {
      "needs_background": "light"
     },
     "output_type": "display_data"
    }
   ],
   "source": [
    "# pdays\n",
    "sns.boxplot(data = loandata['pdays']) "
   ]
  },
  {
   "cell_type": "code",
   "execution_count": 26,
   "metadata": {},
   "outputs": [
    {
     "data": {
      "text/plain": [
       "<matplotlib.axes._subplots.AxesSubplot at 0x1c4ea9d2358>"
      ]
     },
     "execution_count": 26,
     "metadata": {},
     "output_type": "execute_result"
    },
    {
     "data": {
      "image/png": "[encoded data removed]",
      "text/plain": [
       "<Figure size 432x288 with 1 Axes>"
      ]
     },
     "metadata": {
      "needs_background": "light"
     },
     "output_type": "display_data"
    }
   ],
   "source": [
    "#balance\n",
    "sns.boxplot(data = loandata['balance']) "
   ]
  },
  {
   "cell_type": "code",
   "execution_count": 27,
   "metadata": {},
   "outputs": [
    {
     "data": {
      "text/html": [
       "<div>\n",
       "<style scoped>\n",
       "    .dataframe tbody tr th:only-of-type {\n",
       "        vertical-align: middle;\n",
       "    }\n",
       "\n",
       "    .dataframe tbody tr th {\n",
       "        vertical-align: top;\n",
       "    }\n",
       "\n",
       "    .dataframe thead th {\n",
       "        text-align: right;\n",
       "    }\n",
       "</style>\n",
       "<table border=\"1\" class=\"dataframe\">\n",
       "  <thead>\n",
       "    <tr style=\"text-align: right;\">\n",
       "      <th></th>\n",
       "      <th>age</th>\n",
       "      <th>balance</th>\n",
       "      <th>campaign</th>\n",
       "      <th>pdays</th>\n",
       "      <th>previous</th>\n",
       "    </tr>\n",
       "  </thead>\n",
       "  <tbody>\n",
       "    <tr>\n",
       "      <th>age</th>\n",
       "      <td>1.000000</td>\n",
       "      <td>0.097783</td>\n",
       "      <td>0.004760</td>\n",
       "      <td>-0.023758</td>\n",
       "      <td>0.001288</td>\n",
       "    </tr>\n",
       "    <tr>\n",
       "      <th>balance</th>\n",
       "      <td>0.097783</td>\n",
       "      <td>1.000000</td>\n",
       "      <td>-0.014578</td>\n",
       "      <td>0.003435</td>\n",
       "      <td>0.016674</td>\n",
       "    </tr>\n",
       "    <tr>\n",
       "      <th>campaign</th>\n",
       "      <td>0.004760</td>\n",
       "      <td>-0.014578</td>\n",
       "      <td>1.000000</td>\n",
       "      <td>-0.088628</td>\n",
       "      <td>-0.032855</td>\n",
       "    </tr>\n",
       "    <tr>\n",
       "      <th>pdays</th>\n",
       "      <td>-0.023758</td>\n",
       "      <td>0.003435</td>\n",
       "      <td>-0.088628</td>\n",
       "      <td>1.000000</td>\n",
       "      <td>0.454820</td>\n",
       "    </tr>\n",
       "    <tr>\n",
       "      <th>previous</th>\n",
       "      <td>0.001288</td>\n",
       "      <td>0.016674</td>\n",
       "      <td>-0.032855</td>\n",
       "      <td>0.454820</td>\n",
       "      <td>1.000000</td>\n",
       "    </tr>\n",
       "  </tbody>\n",
       "</table>\n",
       "</div>"
      ],
      "text/plain": [
       "               age   balance  campaign     pdays  previous\n",
       "age       1.000000  0.097783  0.004760 -0.023758  0.001288\n",
       "balance   0.097783  1.000000 -0.014578  0.003435  0.016674\n",
       "campaign  0.004760 -0.014578  1.000000 -0.088628 -0.032855\n",
       "pdays    -0.023758  0.003435 -0.088628  1.000000  0.454820\n",
       "previous  0.001288  0.016674 -0.032855  0.454820  1.000000"
      ]
     },
     "execution_count": 27,
     "metadata": {},
     "output_type": "execute_result"
    }
   ],
   "source": [
    "# Correlation Analysis\n",
    "Numeric_variables1 =loandata[['age', 'balance', 'campaign', 'pdays', 'previous']]\n",
    "Correlation = Numeric_variables1.corr()\n",
    "Correlation"
   ]
  },
  {
   "cell_type": "code",
   "execution_count": 28,
   "metadata": {},
   "outputs": [
    {
     "data": {
      "text/plain": [
       "<matplotlib.axes._subplots.AxesSubplot at 0x1c4eb1288d0>"
      ]
     },
     "execution_count": 28,
     "metadata": {},
     "output_type": "execute_result"
    },
    {
     "data": {
      "image/png": "[encoded data removed]",
      "text/plain": [
       "<Figure size 648x504 with 2 Axes>"
      ]
     },
     "metadata": {
      "needs_background": "light"
     },
     "output_type": "display_data"
    }
   ],
   "source": [
    "plt.figure(figsize=(9,7))\n",
    "sns.heatmap(Correlation, annot = True, linewidths = 1.5)"
   ]
  },
  {
   "cell_type": "markdown",
   "metadata": {},
   "source": [
    "##### ** positive correlation exist bewteen 'pdays' and 'previous' but not significant enough to drop any from the data"
   ]
  },
  {
   "cell_type": "code",
   "execution_count": 31,
   "metadata": {},
   "outputs": [],
   "source": [
    "# Checking the data distribution in details (bi-variate analysis)\n",
    "Numeric_variables1 =loandata[['age', 'balance', 'campaign', 'pdays', 'previous','Target']]"
   ]
  },
  {
   "cell_type": "code",
   "execution_count": 30,
   "metadata": {},
   "outputs": [
    {
     "data": {
      "text/plain": [
       "<seaborn.axisgrid.PairGrid at 0x1c4eb144f60>"
      ]
     },
     "execution_count": 30,
     "metadata": {},
     "output_type": "execute_result"
    },
    {
     "data": {
      "image/png": "[encoded data removed]",
      "text/plain": [
       "<Figure size 953.25x900 with 30 Axes>"
      ]
     },
     "metadata": {
      "needs_background": "light"
     },
     "output_type": "display_data"
    }
   ],
   "source": [
    "sns.pairplot(Numeric_variables1, hue = 'Target')"
   ]
  },
  {
   "cell_type": "markdown",
   "metadata": {},
   "source": [
    "##### ** padys is significantly high for Target class \"yes\"."
   ]
  },
  {
   "cell_type": "markdown",
   "metadata": {},
   "source": [
    "# SEC. 3 Data Preparation"
   ]
  },
  {
   "cell_type": "markdown",
   "metadata": {},
   "source": [
    "### 3.1 Label encoding"
   ]
  },
  {
   "cell_type": "markdown",
   "metadata": {},
   "source": [
    "#### 3.1.1 Scaler transformation (Max-min) of numeric variables"
   ]
  },
  {
   "cell_type": "code",
   "execution_count": 32,
   "metadata": {},
   "outputs": [],
   "source": [
    "numeric_clmns = loandata.dtypes[loandata.dtypes != \"object\"].index"
   ]
  },
  {
   "cell_type": "code",
   "execution_count": 33,
   "metadata": {},
   "outputs": [],
   "source": [
    "min_max_scaler = preprocessing.MinMaxScaler()"
   ]
  },
  {
   "cell_type": "code",
   "execution_count": 34,
   "metadata": {},
   "outputs": [],
   "source": [
    "def scaleColumns(df, cols_to_scale):\n",
    "    for col in cols_to_scale:\n",
    "        df[col] = pd.DataFrame(min_max_scaler.fit_transform(pd.DataFrame(loandata[col])),columns=[col])\n",
    "    return df"
   ]
  },
  {
   "cell_type": "code",
   "execution_count": 35,
   "metadata": {},
   "outputs": [],
   "source": [
    "scaled_df = scaleColumns(loandata,[numeric_clmns])"
   ]
  },
  {
   "cell_type": "code",
   "execution_count": 36,
   "metadata": {},
   "outputs": [],
   "source": [
    "scaled_ohe = scaled_df.copy(deep=True) # Creating an object to create one hot encoded data"
   ]
  },
  {
   "cell_type": "code",
   "execution_count": 37,
   "metadata": {},
   "outputs": [
    {
     "data": {
      "text/html": [
       "<div>\n",
       "<style scoped>\n",
       "    .dataframe tbody tr th:only-of-type {\n",
       "        vertical-align: middle;\n",
       "    }\n",
       "\n",
       "    .dataframe tbody tr th {\n",
       "        vertical-align: top;\n",
       "    }\n",
       "\n",
       "    .dataframe thead th {\n",
       "        text-align: right;\n",
       "    }\n",
       "</style>\n",
       "<table border=\"1\" class=\"dataframe\">\n",
       "  <thead>\n",
       "    <tr style=\"text-align: right;\">\n",
       "      <th></th>\n",
       "      <th>age</th>\n",
       "      <th>job</th>\n",
       "      <th>marital</th>\n",
       "      <th>education</th>\n",
       "      <th>default</th>\n",
       "      <th>balance</th>\n",
       "      <th>housing</th>\n",
       "      <th>loan</th>\n",
       "      <th>contact</th>\n",
       "      <th>day</th>\n",
       "      <th>month</th>\n",
       "      <th>campaign</th>\n",
       "      <th>pdays</th>\n",
       "      <th>previous</th>\n",
       "      <th>poutcome</th>\n",
       "      <th>Target</th>\n",
       "    </tr>\n",
       "  </thead>\n",
       "  <tbody>\n",
       "    <tr>\n",
       "      <th>0</th>\n",
       "      <td>0.519481</td>\n",
       "      <td>management</td>\n",
       "      <td>married</td>\n",
       "      <td>tertiary</td>\n",
       "      <td>no</td>\n",
       "      <td>0.092259</td>\n",
       "      <td>yes</td>\n",
       "      <td>no</td>\n",
       "      <td>unknown</td>\n",
       "      <td>Thrusday</td>\n",
       "      <td>may</td>\n",
       "      <td>0.0</td>\n",
       "      <td>0.0</td>\n",
       "      <td>0.0</td>\n",
       "      <td>unknown</td>\n",
       "      <td>no</td>\n",
       "    </tr>\n",
       "    <tr>\n",
       "      <th>1</th>\n",
       "      <td>0.337662</td>\n",
       "      <td>technician</td>\n",
       "      <td>single</td>\n",
       "      <td>secondary</td>\n",
       "      <td>no</td>\n",
       "      <td>0.073067</td>\n",
       "      <td>yes</td>\n",
       "      <td>no</td>\n",
       "      <td>unknown</td>\n",
       "      <td>Thrusday</td>\n",
       "      <td>may</td>\n",
       "      <td>0.0</td>\n",
       "      <td>0.0</td>\n",
       "      <td>0.0</td>\n",
       "      <td>unknown</td>\n",
       "      <td>no</td>\n",
       "    </tr>\n",
       "    <tr>\n",
       "      <th>2</th>\n",
       "      <td>0.194805</td>\n",
       "      <td>entrepreneur</td>\n",
       "      <td>married</td>\n",
       "      <td>secondary</td>\n",
       "      <td>no</td>\n",
       "      <td>0.072822</td>\n",
       "      <td>yes</td>\n",
       "      <td>yes</td>\n",
       "      <td>unknown</td>\n",
       "      <td>Thrusday</td>\n",
       "      <td>may</td>\n",
       "      <td>0.0</td>\n",
       "      <td>0.0</td>\n",
       "      <td>0.0</td>\n",
       "      <td>unknown</td>\n",
       "      <td>no</td>\n",
       "    </tr>\n",
       "    <tr>\n",
       "      <th>3</th>\n",
       "      <td>0.376623</td>\n",
       "      <td>blue-collar</td>\n",
       "      <td>married</td>\n",
       "      <td>unknown</td>\n",
       "      <td>no</td>\n",
       "      <td>0.086476</td>\n",
       "      <td>yes</td>\n",
       "      <td>no</td>\n",
       "      <td>unknown</td>\n",
       "      <td>Thrusday</td>\n",
       "      <td>may</td>\n",
       "      <td>0.0</td>\n",
       "      <td>0.0</td>\n",
       "      <td>0.0</td>\n",
       "      <td>unknown</td>\n",
       "      <td>no</td>\n",
       "    </tr>\n",
       "    <tr>\n",
       "      <th>4</th>\n",
       "      <td>0.194805</td>\n",
       "      <td>unknown</td>\n",
       "      <td>single</td>\n",
       "      <td>unknown</td>\n",
       "      <td>no</td>\n",
       "      <td>0.072812</td>\n",
       "      <td>no</td>\n",
       "      <td>no</td>\n",
       "      <td>unknown</td>\n",
       "      <td>Thrusday</td>\n",
       "      <td>may</td>\n",
       "      <td>0.0</td>\n",
       "      <td>0.0</td>\n",
       "      <td>0.0</td>\n",
       "      <td>unknown</td>\n",
       "      <td>no</td>\n",
       "    </tr>\n",
       "  </tbody>\n",
       "</table>\n",
       "</div>"
      ],
      "text/plain": [
       "        age           job  marital  education default   balance housing loan  \\\n",
       "0  0.519481    management  married   tertiary      no  0.092259     yes   no   \n",
       "1  0.337662    technician   single  secondary      no  0.073067     yes   no   \n",
       "2  0.194805  entrepreneur  married  secondary      no  0.072822     yes  yes   \n",
       "3  0.376623   blue-collar  married    unknown      no  0.086476     yes   no   \n",
       "4  0.194805       unknown   single    unknown      no  0.072812      no   no   \n",
       "\n",
       "   contact       day month  campaign  pdays  previous poutcome Target  \n",
       "0  unknown  Thrusday   may       0.0    0.0       0.0  unknown     no  \n",
       "1  unknown  Thrusday   may       0.0    0.0       0.0  unknown     no  \n",
       "2  unknown  Thrusday   may       0.0    0.0       0.0  unknown     no  \n",
       "3  unknown  Thrusday   may       0.0    0.0       0.0  unknown     no  \n",
       "4  unknown  Thrusday   may       0.0    0.0       0.0  unknown     no  "
      ]
     },
     "execution_count": 37,
     "metadata": {},
     "output_type": "execute_result"
    }
   ],
   "source": [
    "scaled_df.head()"
   ]
  },
  {
   "cell_type": "code",
   "execution_count": 38,
   "metadata": {},
   "outputs": [
    {
     "data": {
      "text/html": [
       "<div>\n",
       "<style scoped>\n",
       "    .dataframe tbody tr th:only-of-type {\n",
       "        vertical-align: middle;\n",
       "    }\n",
       "\n",
       "    .dataframe tbody tr th {\n",
       "        vertical-align: top;\n",
       "    }\n",
       "\n",
       "    .dataframe thead th {\n",
       "        text-align: right;\n",
       "    }\n",
       "</style>\n",
       "<table border=\"1\" class=\"dataframe\">\n",
       "  <thead>\n",
       "    <tr style=\"text-align: right;\">\n",
       "      <th></th>\n",
       "      <th>age</th>\n",
       "      <th>job</th>\n",
       "      <th>marital</th>\n",
       "      <th>education</th>\n",
       "      <th>default</th>\n",
       "      <th>balance</th>\n",
       "      <th>housing</th>\n",
       "      <th>loan</th>\n",
       "      <th>contact</th>\n",
       "      <th>day</th>\n",
       "      <th>month</th>\n",
       "      <th>campaign</th>\n",
       "      <th>pdays</th>\n",
       "      <th>previous</th>\n",
       "      <th>poutcome</th>\n",
       "      <th>Target</th>\n",
       "    </tr>\n",
       "  </thead>\n",
       "  <tbody>\n",
       "    <tr>\n",
       "      <th>0</th>\n",
       "      <td>0.519481</td>\n",
       "      <td>management</td>\n",
       "      <td>married</td>\n",
       "      <td>tertiary</td>\n",
       "      <td>no</td>\n",
       "      <td>0.092259</td>\n",
       "      <td>yes</td>\n",
       "      <td>no</td>\n",
       "      <td>unknown</td>\n",
       "      <td>Thrusday</td>\n",
       "      <td>may</td>\n",
       "      <td>0.0</td>\n",
       "      <td>0.0</td>\n",
       "      <td>0.0</td>\n",
       "      <td>unknown</td>\n",
       "      <td>no</td>\n",
       "    </tr>\n",
       "    <tr>\n",
       "      <th>1</th>\n",
       "      <td>0.337662</td>\n",
       "      <td>technician</td>\n",
       "      <td>single</td>\n",
       "      <td>secondary</td>\n",
       "      <td>no</td>\n",
       "      <td>0.073067</td>\n",
       "      <td>yes</td>\n",
       "      <td>no</td>\n",
       "      <td>unknown</td>\n",
       "      <td>Thrusday</td>\n",
       "      <td>may</td>\n",
       "      <td>0.0</td>\n",
       "      <td>0.0</td>\n",
       "      <td>0.0</td>\n",
       "      <td>unknown</td>\n",
       "      <td>no</td>\n",
       "    </tr>\n",
       "    <tr>\n",
       "      <th>2</th>\n",
       "      <td>0.194805</td>\n",
       "      <td>entrepreneur</td>\n",
       "      <td>married</td>\n",
       "      <td>secondary</td>\n",
       "      <td>no</td>\n",
       "      <td>0.072822</td>\n",
       "      <td>yes</td>\n",
       "      <td>yes</td>\n",
       "      <td>unknown</td>\n",
       "      <td>Thrusday</td>\n",
       "      <td>may</td>\n",
       "      <td>0.0</td>\n",
       "      <td>0.0</td>\n",
       "      <td>0.0</td>\n",
       "      <td>unknown</td>\n",
       "      <td>no</td>\n",
       "    </tr>\n",
       "    <tr>\n",
       "      <th>3</th>\n",
       "      <td>0.376623</td>\n",
       "      <td>blue-collar</td>\n",
       "      <td>married</td>\n",
       "      <td>unknown</td>\n",
       "      <td>no</td>\n",
       "      <td>0.086476</td>\n",
       "      <td>yes</td>\n",
       "      <td>no</td>\n",
       "      <td>unknown</td>\n",
       "      <td>Thrusday</td>\n",
       "      <td>may</td>\n",
       "      <td>0.0</td>\n",
       "      <td>0.0</td>\n",
       "      <td>0.0</td>\n",
       "      <td>unknown</td>\n",
       "      <td>no</td>\n",
       "    </tr>\n",
       "    <tr>\n",
       "      <th>4</th>\n",
       "      <td>0.194805</td>\n",
       "      <td>unknown</td>\n",
       "      <td>single</td>\n",
       "      <td>unknown</td>\n",
       "      <td>no</td>\n",
       "      <td>0.072812</td>\n",
       "      <td>no</td>\n",
       "      <td>no</td>\n",
       "      <td>unknown</td>\n",
       "      <td>Thrusday</td>\n",
       "      <td>may</td>\n",
       "      <td>0.0</td>\n",
       "      <td>0.0</td>\n",
       "      <td>0.0</td>\n",
       "      <td>unknown</td>\n",
       "      <td>no</td>\n",
       "    </tr>\n",
       "  </tbody>\n",
       "</table>\n",
       "</div>"
      ],
      "text/plain": [
       "        age           job  marital  education default   balance housing loan  \\\n",
       "0  0.519481    management  married   tertiary      no  0.092259     yes   no   \n",
       "1  0.337662    technician   single  secondary      no  0.073067     yes   no   \n",
       "2  0.194805  entrepreneur  married  secondary      no  0.072822     yes  yes   \n",
       "3  0.376623   blue-collar  married    unknown      no  0.086476     yes   no   \n",
       "4  0.194805       unknown   single    unknown      no  0.072812      no   no   \n",
       "\n",
       "   contact       day month  campaign  pdays  previous poutcome Target  \n",
       "0  unknown  Thrusday   may       0.0    0.0       0.0  unknown     no  \n",
       "1  unknown  Thrusday   may       0.0    0.0       0.0  unknown     no  \n",
       "2  unknown  Thrusday   may       0.0    0.0       0.0  unknown     no  \n",
       "3  unknown  Thrusday   may       0.0    0.0       0.0  unknown     no  \n",
       "4  unknown  Thrusday   may       0.0    0.0       0.0  unknown     no  "
      ]
     },
     "execution_count": 38,
     "metadata": {},
     "output_type": "execute_result"
    }
   ],
   "source": [
    "scaled_ohe.head()"
   ]
  },
  {
   "cell_type": "markdown",
   "metadata": {},
   "source": [
    "#### 3.1.2 Label encoding of categorical variables"
   ]
  },
  {
   "cell_type": "code",
   "execution_count": 39,
   "metadata": {},
   "outputs": [],
   "source": [
    "# Categorical boolean mask\n",
    "categorical_feature_mask = scaled_df.dtypes==object\n",
    "# filter categorical columns using mask and turn it into a list\n",
    "categorical_cols = scaled_df.columns[categorical_feature_mask].tolist()"
   ]
  },
  {
   "cell_type": "code",
   "execution_count": 40,
   "metadata": {},
   "outputs": [],
   "source": [
    "le = LabelEncoder()\n",
    "scaled_df[categorical_cols] = scaled_df[categorical_cols].apply(lambda col: le.fit_transform(col))"
   ]
  },
  {
   "cell_type": "code",
   "execution_count": 41,
   "metadata": {},
   "outputs": [
    {
     "data": {
      "text/html": [
       "<div>\n",
       "<style scoped>\n",
       "    .dataframe tbody tr th:only-of-type {\n",
       "        vertical-align: middle;\n",
       "    }\n",
       "\n",
       "    .dataframe tbody tr th {\n",
       "        vertical-align: top;\n",
       "    }\n",
       "\n",
       "    .dataframe thead th {\n",
       "        text-align: right;\n",
       "    }\n",
       "</style>\n",
       "<table border=\"1\" class=\"dataframe\">\n",
       "  <thead>\n",
       "    <tr style=\"text-align: right;\">\n",
       "      <th></th>\n",
       "      <th>age</th>\n",
       "      <th>job</th>\n",
       "      <th>marital</th>\n",
       "      <th>education</th>\n",
       "      <th>default</th>\n",
       "      <th>balance</th>\n",
       "      <th>housing</th>\n",
       "      <th>loan</th>\n",
       "      <th>contact</th>\n",
       "      <th>day</th>\n",
       "      <th>month</th>\n",
       "      <th>campaign</th>\n",
       "      <th>pdays</th>\n",
       "      <th>previous</th>\n",
       "      <th>poutcome</th>\n",
       "      <th>Target</th>\n",
       "    </tr>\n",
       "  </thead>\n",
       "  <tbody>\n",
       "    <tr>\n",
       "      <th>0</th>\n",
       "      <td>0.519481</td>\n",
       "      <td>4</td>\n",
       "      <td>1</td>\n",
       "      <td>2</td>\n",
       "      <td>0</td>\n",
       "      <td>0.092259</td>\n",
       "      <td>1</td>\n",
       "      <td>0</td>\n",
       "      <td>2</td>\n",
       "      <td>4</td>\n",
       "      <td>8</td>\n",
       "      <td>0.0</td>\n",
       "      <td>0.0</td>\n",
       "      <td>0.0</td>\n",
       "      <td>3</td>\n",
       "      <td>0</td>\n",
       "    </tr>\n",
       "    <tr>\n",
       "      <th>1</th>\n",
       "      <td>0.337662</td>\n",
       "      <td>9</td>\n",
       "      <td>2</td>\n",
       "      <td>1</td>\n",
       "      <td>0</td>\n",
       "      <td>0.073067</td>\n",
       "      <td>1</td>\n",
       "      <td>0</td>\n",
       "      <td>2</td>\n",
       "      <td>4</td>\n",
       "      <td>8</td>\n",
       "      <td>0.0</td>\n",
       "      <td>0.0</td>\n",
       "      <td>0.0</td>\n",
       "      <td>3</td>\n",
       "      <td>0</td>\n",
       "    </tr>\n",
       "    <tr>\n",
       "      <th>2</th>\n",
       "      <td>0.194805</td>\n",
       "      <td>2</td>\n",
       "      <td>1</td>\n",
       "      <td>1</td>\n",
       "      <td>0</td>\n",
       "      <td>0.072822</td>\n",
       "      <td>1</td>\n",
       "      <td>1</td>\n",
       "      <td>2</td>\n",
       "      <td>4</td>\n",
       "      <td>8</td>\n",
       "      <td>0.0</td>\n",
       "      <td>0.0</td>\n",
       "      <td>0.0</td>\n",
       "      <td>3</td>\n",
       "      <td>0</td>\n",
       "    </tr>\n",
       "    <tr>\n",
       "      <th>3</th>\n",
       "      <td>0.376623</td>\n",
       "      <td>1</td>\n",
       "      <td>1</td>\n",
       "      <td>3</td>\n",
       "      <td>0</td>\n",
       "      <td>0.086476</td>\n",
       "      <td>1</td>\n",
       "      <td>0</td>\n",
       "      <td>2</td>\n",
       "      <td>4</td>\n",
       "      <td>8</td>\n",
       "      <td>0.0</td>\n",
       "      <td>0.0</td>\n",
       "      <td>0.0</td>\n",
       "      <td>3</td>\n",
       "      <td>0</td>\n",
       "    </tr>\n",
       "    <tr>\n",
       "      <th>4</th>\n",
       "      <td>0.194805</td>\n",
       "      <td>11</td>\n",
       "      <td>2</td>\n",
       "      <td>3</td>\n",
       "      <td>0</td>\n",
       "      <td>0.072812</td>\n",
       "      <td>0</td>\n",
       "      <td>0</td>\n",
       "      <td>2</td>\n",
       "      <td>4</td>\n",
       "      <td>8</td>\n",
       "      <td>0.0</td>\n",
       "      <td>0.0</td>\n",
       "      <td>0.0</td>\n",
       "      <td>3</td>\n",
       "      <td>0</td>\n",
       "    </tr>\n",
       "  </tbody>\n",
       "</table>\n",
       "</div>"
      ],
      "text/plain": [
       "        age  job  marital  education  default   balance  housing  loan  \\\n",
       "0  0.519481    4        1          2        0  0.092259        1     0   \n",
       "1  0.337662    9        2          1        0  0.073067        1     0   \n",
       "2  0.194805    2        1          1        0  0.072822        1     1   \n",
       "3  0.376623    1        1          3        0  0.086476        1     0   \n",
       "4  0.194805   11        2          3        0  0.072812        0     0   \n",
       "\n",
       "   contact  day  month  campaign  pdays  previous  poutcome  Target  \n",
       "0        2    4      8       0.0    0.0       0.0         3       0  \n",
       "1        2    4      8       0.0    0.0       0.0         3       0  \n",
       "2        2    4      8       0.0    0.0       0.0         3       0  \n",
       "3        2    4      8       0.0    0.0       0.0         3       0  \n",
       "4        2    4      8       0.0    0.0       0.0         3       0  "
      ]
     },
     "execution_count": 41,
     "metadata": {},
     "output_type": "execute_result"
    }
   ],
   "source": [
    "scaled_df.head()"
   ]
  },
  {
   "cell_type": "code",
   "execution_count": 42,
   "metadata": {},
   "outputs": [
    {
     "data": {
      "text/plain": [
       "(45211, 16)"
      ]
     },
     "execution_count": 42,
     "metadata": {},
     "output_type": "execute_result"
    }
   ],
   "source": [
    "# Checking the dimension of the final data\n",
    "scaled_df.shape"
   ]
  },
  {
   "cell_type": "code",
   "execution_count": 43,
   "metadata": {},
   "outputs": [],
   "source": [
    "# Saving the encoded and transformed data for future use\n",
    "scaled_df.to_csv(r\"C:\\Users\\user\\Desktop\\Great Learning\\Supervised learning\\Project 4_Ensemble techniques\\Dataset\\l_encoded.csv\", index=False)"
   ]
  },
  {
   "cell_type": "markdown",
   "metadata": {},
   "source": [
    "##### ** Will be using l_encoded data for decision tree and random forest as performance might decrease due to binary class of the one-hot encoded data"
   ]
  },
  {
   "cell_type": "markdown",
   "metadata": {},
   "source": [
    "### 3.2 One-Hot encoding"
   ]
  },
  {
   "cell_type": "code",
   "execution_count": 44,
   "metadata": {},
   "outputs": [
    {
     "data": {
      "text/html": [
       "<div>\n",
       "<style scoped>\n",
       "    .dataframe tbody tr th:only-of-type {\n",
       "        vertical-align: middle;\n",
       "    }\n",
       "\n",
       "    .dataframe tbody tr th {\n",
       "        vertical-align: top;\n",
       "    }\n",
       "\n",
       "    .dataframe thead th {\n",
       "        text-align: right;\n",
       "    }\n",
       "</style>\n",
       "<table border=\"1\" class=\"dataframe\">\n",
       "  <thead>\n",
       "    <tr style=\"text-align: right;\">\n",
       "      <th></th>\n",
       "      <th>age</th>\n",
       "      <th>job</th>\n",
       "      <th>marital</th>\n",
       "      <th>education</th>\n",
       "      <th>default</th>\n",
       "      <th>balance</th>\n",
       "      <th>housing</th>\n",
       "      <th>loan</th>\n",
       "      <th>contact</th>\n",
       "      <th>day</th>\n",
       "      <th>month</th>\n",
       "      <th>campaign</th>\n",
       "      <th>pdays</th>\n",
       "      <th>previous</th>\n",
       "      <th>poutcome</th>\n",
       "      <th>Target</th>\n",
       "    </tr>\n",
       "  </thead>\n",
       "  <tbody>\n",
       "    <tr>\n",
       "      <th>0</th>\n",
       "      <td>0.519481</td>\n",
       "      <td>management</td>\n",
       "      <td>married</td>\n",
       "      <td>tertiary</td>\n",
       "      <td>no</td>\n",
       "      <td>0.092259</td>\n",
       "      <td>yes</td>\n",
       "      <td>no</td>\n",
       "      <td>unknown</td>\n",
       "      <td>Thrusday</td>\n",
       "      <td>may</td>\n",
       "      <td>0.0</td>\n",
       "      <td>0.0</td>\n",
       "      <td>0.0</td>\n",
       "      <td>unknown</td>\n",
       "      <td>no</td>\n",
       "    </tr>\n",
       "    <tr>\n",
       "      <th>1</th>\n",
       "      <td>0.337662</td>\n",
       "      <td>technician</td>\n",
       "      <td>single</td>\n",
       "      <td>secondary</td>\n",
       "      <td>no</td>\n",
       "      <td>0.073067</td>\n",
       "      <td>yes</td>\n",
       "      <td>no</td>\n",
       "      <td>unknown</td>\n",
       "      <td>Thrusday</td>\n",
       "      <td>may</td>\n",
       "      <td>0.0</td>\n",
       "      <td>0.0</td>\n",
       "      <td>0.0</td>\n",
       "      <td>unknown</td>\n",
       "      <td>no</td>\n",
       "    </tr>\n",
       "    <tr>\n",
       "      <th>2</th>\n",
       "      <td>0.194805</td>\n",
       "      <td>entrepreneur</td>\n",
       "      <td>married</td>\n",
       "      <td>secondary</td>\n",
       "      <td>no</td>\n",
       "      <td>0.072822</td>\n",
       "      <td>yes</td>\n",
       "      <td>yes</td>\n",
       "      <td>unknown</td>\n",
       "      <td>Thrusday</td>\n",
       "      <td>may</td>\n",
       "      <td>0.0</td>\n",
       "      <td>0.0</td>\n",
       "      <td>0.0</td>\n",
       "      <td>unknown</td>\n",
       "      <td>no</td>\n",
       "    </tr>\n",
       "    <tr>\n",
       "      <th>3</th>\n",
       "      <td>0.376623</td>\n",
       "      <td>blue-collar</td>\n",
       "      <td>married</td>\n",
       "      <td>unknown</td>\n",
       "      <td>no</td>\n",
       "      <td>0.086476</td>\n",
       "      <td>yes</td>\n",
       "      <td>no</td>\n",
       "      <td>unknown</td>\n",
       "      <td>Thrusday</td>\n",
       "      <td>may</td>\n",
       "      <td>0.0</td>\n",
       "      <td>0.0</td>\n",
       "      <td>0.0</td>\n",
       "      <td>unknown</td>\n",
       "      <td>no</td>\n",
       "    </tr>\n",
       "    <tr>\n",
       "      <th>4</th>\n",
       "      <td>0.194805</td>\n",
       "      <td>unknown</td>\n",
       "      <td>single</td>\n",
       "      <td>unknown</td>\n",
       "      <td>no</td>\n",
       "      <td>0.072812</td>\n",
       "      <td>no</td>\n",
       "      <td>no</td>\n",
       "      <td>unknown</td>\n",
       "      <td>Thrusday</td>\n",
       "      <td>may</td>\n",
       "      <td>0.0</td>\n",
       "      <td>0.0</td>\n",
       "      <td>0.0</td>\n",
       "      <td>unknown</td>\n",
       "      <td>no</td>\n",
       "    </tr>\n",
       "  </tbody>\n",
       "</table>\n",
       "</div>"
      ],
      "text/plain": [
       "        age           job  marital  education default   balance housing loan  \\\n",
       "0  0.519481    management  married   tertiary      no  0.092259     yes   no   \n",
       "1  0.337662    technician   single  secondary      no  0.073067     yes   no   \n",
       "2  0.194805  entrepreneur  married  secondary      no  0.072822     yes  yes   \n",
       "3  0.376623   blue-collar  married    unknown      no  0.086476     yes   no   \n",
       "4  0.194805       unknown   single    unknown      no  0.072812      no   no   \n",
       "\n",
       "   contact       day month  campaign  pdays  previous poutcome Target  \n",
       "0  unknown  Thrusday   may       0.0    0.0       0.0  unknown     no  \n",
       "1  unknown  Thrusday   may       0.0    0.0       0.0  unknown     no  \n",
       "2  unknown  Thrusday   may       0.0    0.0       0.0  unknown     no  \n",
       "3  unknown  Thrusday   may       0.0    0.0       0.0  unknown     no  \n",
       "4  unknown  Thrusday   may       0.0    0.0       0.0  unknown     no  "
      ]
     },
     "execution_count": 44,
     "metadata": {},
     "output_type": "execute_result"
    }
   ],
   "source": [
    "scaled_ohe.head()"
   ]
  },
  {
   "cell_type": "code",
   "execution_count": 46,
   "metadata": {},
   "outputs": [],
   "source": [
    "# Creating a copy of the orginal dataset for future reference\n",
    "one_hot_data = scaled_ohe.copy(deep=True)"
   ]
  },
  {
   "cell_type": "markdown",
   "metadata": {},
   "source": [
    "#### 3.2.1 Ordinal variables"
   ]
  },
  {
   "cell_type": "code",
   "execution_count": 47,
   "metadata": {},
   "outputs": [],
   "source": [
    "le = LabelEncoder()\n",
    "one_hot_data.default = le.fit_transform(one_hot_data.default)\n",
    "one_hot_data.housing = le.fit_transform(one_hot_data.housing)\n",
    "one_hot_data.loan = le.fit_transform(one_hot_data.loan)\n",
    "one_hot_data.Target = le.fit_transform(one_hot_data.Target)"
   ]
  },
  {
   "cell_type": "code",
   "execution_count": 48,
   "metadata": {},
   "outputs": [],
   "source": [
    "# Converting 'unknown' category to 'other' for poutcome and encoding the variables\n",
    "poutcome_flag = {'unknown':'other', 'other':'other', 'failure':'failure', 'success':'success'}\n",
    "one_hot_data['poutcome'].replace(poutcome_flag, inplace = True)\n",
    "one_hot_data['poutcome']=one_hot_data['poutcome'].map({'failure': -1,'other': 0,'success': 1})"
   ]
  },
  {
   "cell_type": "markdown",
   "metadata": {},
   "source": [
    "#### 3.2.2 Nominal variables"
   ]
  },
  {
   "cell_type": "code",
   "execution_count": 49,
   "metadata": {},
   "outputs": [],
   "source": [
    "# Creating an object for the nominal variables\n",
    "nom_variables = ['job','marital','education','contact','day','month']\n",
    "loandata_ohe = pd.get_dummies(one_hot_data,columns=nom_variables)"
   ]
  },
  {
   "cell_type": "code",
   "execution_count": 50,
   "metadata": {},
   "outputs": [
    {
     "data": {
      "text/html": [
       "<div>\n",
       "<style scoped>\n",
       "    .dataframe tbody tr th:only-of-type {\n",
       "        vertical-align: middle;\n",
       "    }\n",
       "\n",
       "    .dataframe tbody tr th {\n",
       "        vertical-align: top;\n",
       "    }\n",
       "\n",
       "    .dataframe thead th {\n",
       "        text-align: right;\n",
       "    }\n",
       "</style>\n",
       "<table border=\"1\" class=\"dataframe\">\n",
       "  <thead>\n",
       "    <tr style=\"text-align: right;\">\n",
       "      <th></th>\n",
       "      <th>age</th>\n",
       "      <th>default</th>\n",
       "      <th>balance</th>\n",
       "      <th>housing</th>\n",
       "      <th>loan</th>\n",
       "      <th>campaign</th>\n",
       "      <th>pdays</th>\n",
       "      <th>previous</th>\n",
       "      <th>poutcome</th>\n",
       "      <th>Target</th>\n",
       "      <th>...</th>\n",
       "      <th>month_dec</th>\n",
       "      <th>month_feb</th>\n",
       "      <th>month_jan</th>\n",
       "      <th>month_jul</th>\n",
       "      <th>month_jun</th>\n",
       "      <th>month_mar</th>\n",
       "      <th>month_may</th>\n",
       "      <th>month_nov</th>\n",
       "      <th>month_oct</th>\n",
       "      <th>month_sep</th>\n",
       "    </tr>\n",
       "  </thead>\n",
       "  <tbody>\n",
       "    <tr>\n",
       "      <th>0</th>\n",
       "      <td>0.519481</td>\n",
       "      <td>0</td>\n",
       "      <td>0.092259</td>\n",
       "      <td>1</td>\n",
       "      <td>0</td>\n",
       "      <td>0.0</td>\n",
       "      <td>0.0</td>\n",
       "      <td>0.0</td>\n",
       "      <td>0</td>\n",
       "      <td>0</td>\n",
       "      <td>...</td>\n",
       "      <td>0</td>\n",
       "      <td>0</td>\n",
       "      <td>0</td>\n",
       "      <td>0</td>\n",
       "      <td>0</td>\n",
       "      <td>0</td>\n",
       "      <td>1</td>\n",
       "      <td>0</td>\n",
       "      <td>0</td>\n",
       "      <td>0</td>\n",
       "    </tr>\n",
       "    <tr>\n",
       "      <th>1</th>\n",
       "      <td>0.337662</td>\n",
       "      <td>0</td>\n",
       "      <td>0.073067</td>\n",
       "      <td>1</td>\n",
       "      <td>0</td>\n",
       "      <td>0.0</td>\n",
       "      <td>0.0</td>\n",
       "      <td>0.0</td>\n",
       "      <td>0</td>\n",
       "      <td>0</td>\n",
       "      <td>...</td>\n",
       "      <td>0</td>\n",
       "      <td>0</td>\n",
       "      <td>0</td>\n",
       "      <td>0</td>\n",
       "      <td>0</td>\n",
       "      <td>0</td>\n",
       "      <td>1</td>\n",
       "      <td>0</td>\n",
       "      <td>0</td>\n",
       "      <td>0</td>\n",
       "    </tr>\n",
       "    <tr>\n",
       "      <th>2</th>\n",
       "      <td>0.194805</td>\n",
       "      <td>0</td>\n",
       "      <td>0.072822</td>\n",
       "      <td>1</td>\n",
       "      <td>1</td>\n",
       "      <td>0.0</td>\n",
       "      <td>0.0</td>\n",
       "      <td>0.0</td>\n",
       "      <td>0</td>\n",
       "      <td>0</td>\n",
       "      <td>...</td>\n",
       "      <td>0</td>\n",
       "      <td>0</td>\n",
       "      <td>0</td>\n",
       "      <td>0</td>\n",
       "      <td>0</td>\n",
       "      <td>0</td>\n",
       "      <td>1</td>\n",
       "      <td>0</td>\n",
       "      <td>0</td>\n",
       "      <td>0</td>\n",
       "    </tr>\n",
       "    <tr>\n",
       "      <th>3</th>\n",
       "      <td>0.376623</td>\n",
       "      <td>0</td>\n",
       "      <td>0.086476</td>\n",
       "      <td>1</td>\n",
       "      <td>0</td>\n",
       "      <td>0.0</td>\n",
       "      <td>0.0</td>\n",
       "      <td>0.0</td>\n",
       "      <td>0</td>\n",
       "      <td>0</td>\n",
       "      <td>...</td>\n",
       "      <td>0</td>\n",
       "      <td>0</td>\n",
       "      <td>0</td>\n",
       "      <td>0</td>\n",
       "      <td>0</td>\n",
       "      <td>0</td>\n",
       "      <td>1</td>\n",
       "      <td>0</td>\n",
       "      <td>0</td>\n",
       "      <td>0</td>\n",
       "    </tr>\n",
       "    <tr>\n",
       "      <th>4</th>\n",
       "      <td>0.194805</td>\n",
       "      <td>0</td>\n",
       "      <td>0.072812</td>\n",
       "      <td>0</td>\n",
       "      <td>0</td>\n",
       "      <td>0.0</td>\n",
       "      <td>0.0</td>\n",
       "      <td>0.0</td>\n",
       "      <td>0</td>\n",
       "      <td>0</td>\n",
       "      <td>...</td>\n",
       "      <td>0</td>\n",
       "      <td>0</td>\n",
       "      <td>0</td>\n",
       "      <td>0</td>\n",
       "      <td>0</td>\n",
       "      <td>0</td>\n",
       "      <td>1</td>\n",
       "      <td>0</td>\n",
       "      <td>0</td>\n",
       "      <td>0</td>\n",
       "    </tr>\n",
       "  </tbody>\n",
       "</table>\n",
       "<p>5 rows × 51 columns</p>\n",
       "</div>"
      ],
      "text/plain": [
       "        age  default   balance  housing  loan  campaign  pdays  previous  \\\n",
       "0  0.519481        0  0.092259        1     0       0.0    0.0       0.0   \n",
       "1  0.337662        0  0.073067        1     0       0.0    0.0       0.0   \n",
       "2  0.194805        0  0.072822        1     1       0.0    0.0       0.0   \n",
       "3  0.376623        0  0.086476        1     0       0.0    0.0       0.0   \n",
       "4  0.194805        0  0.072812        0     0       0.0    0.0       0.0   \n",
       "\n",
       "   poutcome  Target  ...  month_dec  month_feb  month_jan  month_jul  \\\n",
       "0         0       0  ...          0          0          0          0   \n",
       "1         0       0  ...          0          0          0          0   \n",
       "2         0       0  ...          0          0          0          0   \n",
       "3         0       0  ...          0          0          0          0   \n",
       "4         0       0  ...          0          0          0          0   \n",
       "\n",
       "   month_jun  month_mar  month_may  month_nov  month_oct  month_sep  \n",
       "0          0          0          1          0          0          0  \n",
       "1          0          0          1          0          0          0  \n",
       "2          0          0          1          0          0          0  \n",
       "3          0          0          1          0          0          0  \n",
       "4          0          0          1          0          0          0  \n",
       "\n",
       "[5 rows x 51 columns]"
      ]
     },
     "execution_count": 50,
     "metadata": {},
     "output_type": "execute_result"
    }
   ],
   "source": [
    "loandata_ohe.head()"
   ]
  },
  {
   "cell_type": "code",
   "execution_count": 51,
   "metadata": {},
   "outputs": [
    {
     "data": {
      "text/plain": [
       "(45211, 51)"
      ]
     },
     "execution_count": 51,
     "metadata": {},
     "output_type": "execute_result"
    }
   ],
   "source": [
    "loandata_ohe.shape # Column number increased from 16 to 51"
   ]
  },
  {
   "cell_type": "code",
   "execution_count": 52,
   "metadata": {},
   "outputs": [],
   "source": [
    "# Saving the encoded and transformed data for future use\n",
    "loandata_ohe.to_csv(r\"C:\\Users\\user\\Desktop\\Great Learning\\Supervised learning\\Project 4_Ensemble techniques\\Dataset\\oh_encoded.csv\", index=False)"
   ]
  },
  {
   "cell_type": "markdown",
   "metadata": {},
   "source": [
    "### Which dataset to use ?\n",
    "##### One-hot coded data should be used for all model except Decision tree and Random forest. But, here I will use both the dataset to evaluate the model performance. In which cases we will get the better result, we keep that dataset for final model deployment."
   ]
  },
  {
   "cell_type": "markdown",
   "metadata": {},
   "source": [
    "# SEC 4. Training and Test data preparation"
   ]
  },
  {
   "cell_type": "markdown",
   "metadata": {},
   "source": [
    "### 4.1 Label encoded data"
   ]
  },
  {
   "cell_type": "code",
   "execution_count": 53,
   "metadata": {},
   "outputs": [
    {
     "data": {
      "text/html": [
       "<div>\n",
       "<style scoped>\n",
       "    .dataframe tbody tr th:only-of-type {\n",
       "        vertical-align: middle;\n",
       "    }\n",
       "\n",
       "    .dataframe tbody tr th {\n",
       "        vertical-align: top;\n",
       "    }\n",
       "\n",
       "    .dataframe thead th {\n",
       "        text-align: right;\n",
       "    }\n",
       "</style>\n",
       "<table border=\"1\" class=\"dataframe\">\n",
       "  <thead>\n",
       "    <tr style=\"text-align: right;\">\n",
       "      <th></th>\n",
       "      <th>age</th>\n",
       "      <th>job</th>\n",
       "      <th>marital</th>\n",
       "      <th>education</th>\n",
       "      <th>default</th>\n",
       "      <th>balance</th>\n",
       "      <th>housing</th>\n",
       "      <th>loan</th>\n",
       "      <th>contact</th>\n",
       "      <th>day</th>\n",
       "      <th>month</th>\n",
       "      <th>campaign</th>\n",
       "      <th>pdays</th>\n",
       "      <th>previous</th>\n",
       "      <th>poutcome</th>\n",
       "      <th>Target</th>\n",
       "    </tr>\n",
       "  </thead>\n",
       "  <tbody>\n",
       "    <tr>\n",
       "      <th>0</th>\n",
       "      <td>0.519481</td>\n",
       "      <td>4</td>\n",
       "      <td>1</td>\n",
       "      <td>2</td>\n",
       "      <td>0</td>\n",
       "      <td>0.092259</td>\n",
       "      <td>1</td>\n",
       "      <td>0</td>\n",
       "      <td>2</td>\n",
       "      <td>4</td>\n",
       "      <td>8</td>\n",
       "      <td>0.0</td>\n",
       "      <td>0.0</td>\n",
       "      <td>0.0</td>\n",
       "      <td>3</td>\n",
       "      <td>0</td>\n",
       "    </tr>\n",
       "    <tr>\n",
       "      <th>1</th>\n",
       "      <td>0.337662</td>\n",
       "      <td>9</td>\n",
       "      <td>2</td>\n",
       "      <td>1</td>\n",
       "      <td>0</td>\n",
       "      <td>0.073067</td>\n",
       "      <td>1</td>\n",
       "      <td>0</td>\n",
       "      <td>2</td>\n",
       "      <td>4</td>\n",
       "      <td>8</td>\n",
       "      <td>0.0</td>\n",
       "      <td>0.0</td>\n",
       "      <td>0.0</td>\n",
       "      <td>3</td>\n",
       "      <td>0</td>\n",
       "    </tr>\n",
       "    <tr>\n",
       "      <th>2</th>\n",
       "      <td>0.194805</td>\n",
       "      <td>2</td>\n",
       "      <td>1</td>\n",
       "      <td>1</td>\n",
       "      <td>0</td>\n",
       "      <td>0.072822</td>\n",
       "      <td>1</td>\n",
       "      <td>1</td>\n",
       "      <td>2</td>\n",
       "      <td>4</td>\n",
       "      <td>8</td>\n",
       "      <td>0.0</td>\n",
       "      <td>0.0</td>\n",
       "      <td>0.0</td>\n",
       "      <td>3</td>\n",
       "      <td>0</td>\n",
       "    </tr>\n",
       "    <tr>\n",
       "      <th>3</th>\n",
       "      <td>0.376623</td>\n",
       "      <td>1</td>\n",
       "      <td>1</td>\n",
       "      <td>3</td>\n",
       "      <td>0</td>\n",
       "      <td>0.086476</td>\n",
       "      <td>1</td>\n",
       "      <td>0</td>\n",
       "      <td>2</td>\n",
       "      <td>4</td>\n",
       "      <td>8</td>\n",
       "      <td>0.0</td>\n",
       "      <td>0.0</td>\n",
       "      <td>0.0</td>\n",
       "      <td>3</td>\n",
       "      <td>0</td>\n",
       "    </tr>\n",
       "    <tr>\n",
       "      <th>4</th>\n",
       "      <td>0.194805</td>\n",
       "      <td>11</td>\n",
       "      <td>2</td>\n",
       "      <td>3</td>\n",
       "      <td>0</td>\n",
       "      <td>0.072812</td>\n",
       "      <td>0</td>\n",
       "      <td>0</td>\n",
       "      <td>2</td>\n",
       "      <td>4</td>\n",
       "      <td>8</td>\n",
       "      <td>0.0</td>\n",
       "      <td>0.0</td>\n",
       "      <td>0.0</td>\n",
       "      <td>3</td>\n",
       "      <td>0</td>\n",
       "    </tr>\n",
       "  </tbody>\n",
       "</table>\n",
       "</div>"
      ],
      "text/plain": [
       "        age  job  marital  education  default   balance  housing  loan  \\\n",
       "0  0.519481    4        1          2        0  0.092259        1     0   \n",
       "1  0.337662    9        2          1        0  0.073067        1     0   \n",
       "2  0.194805    2        1          1        0  0.072822        1     1   \n",
       "3  0.376623    1        1          3        0  0.086476        1     0   \n",
       "4  0.194805   11        2          3        0  0.072812        0     0   \n",
       "\n",
       "   contact  day  month  campaign  pdays  previous  poutcome  Target  \n",
       "0        2    4      8       0.0    0.0       0.0         3       0  \n",
       "1        2    4      8       0.0    0.0       0.0         3       0  \n",
       "2        2    4      8       0.0    0.0       0.0         3       0  \n",
       "3        2    4      8       0.0    0.0       0.0         3       0  \n",
       "4        2    4      8       0.0    0.0       0.0         3       0  "
      ]
     },
     "execution_count": 53,
     "metadata": {},
     "output_type": "execute_result"
    }
   ],
   "source": [
    "# Importing the dataset\n",
    "Path = \"C:/Users/user/Desktop/Great Learning/Supervised learning/Project 4_Ensemble techniques/Dataset/l_encoded.csv\"\n",
    "l_encod = pd.read_csv(Path)\n",
    "l_encod.head()"
   ]
  },
  {
   "cell_type": "code",
   "execution_count": 54,
   "metadata": {},
   "outputs": [],
   "source": [
    "# Object creation for independent and dependent variables for label encoded data\n",
    "X_le = l_encod.loc[:, l_encod.columns != \"Target\"]\n",
    "y_le = l_encod.loc[:, l_encod.columns == \"Target\"] "
   ]
  },
  {
   "cell_type": "code",
   "execution_count": 55,
   "metadata": {},
   "outputs": [],
   "source": [
    "# Creation of Training and test dataset\n",
    "X_train_le, X_test_le, y_train_le, y_test_le = train_test_split(X_le, y_le, test_size=0.3, random_state=123)"
   ]
  },
  {
   "cell_type": "code",
   "execution_count": 56,
   "metadata": {},
   "outputs": [
    {
     "name": "stdout",
     "output_type": "stream",
     "text": [
      "0.7\n",
      "0.3\n"
     ]
    }
   ],
   "source": [
    "# Checking the shape of the training and test dataset (Whether the dataset splitted in right way or not)\n",
    "for i in (y_train_le,y_test_le):\n",
    "   print(round(len(i)/len(y_le),2))"
   ]
  },
  {
   "cell_type": "markdown",
   "metadata": {},
   "source": [
    "### 4.2 One-hot encoded data"
   ]
  },
  {
   "cell_type": "code",
   "execution_count": 57,
   "metadata": {},
   "outputs": [
    {
     "data": {
      "text/html": [
       "<div>\n",
       "<style scoped>\n",
       "    .dataframe tbody tr th:only-of-type {\n",
       "        vertical-align: middle;\n",
       "    }\n",
       "\n",
       "    .dataframe tbody tr th {\n",
       "        vertical-align: top;\n",
       "    }\n",
       "\n",
       "    .dataframe thead th {\n",
       "        text-align: right;\n",
       "    }\n",
       "</style>\n",
       "<table border=\"1\" class=\"dataframe\">\n",
       "  <thead>\n",
       "    <tr style=\"text-align: right;\">\n",
       "      <th></th>\n",
       "      <th>age</th>\n",
       "      <th>default</th>\n",
       "      <th>balance</th>\n",
       "      <th>housing</th>\n",
       "      <th>loan</th>\n",
       "      <th>campaign</th>\n",
       "      <th>pdays</th>\n",
       "      <th>previous</th>\n",
       "      <th>poutcome</th>\n",
       "      <th>Target</th>\n",
       "      <th>...</th>\n",
       "      <th>month_dec</th>\n",
       "      <th>month_feb</th>\n",
       "      <th>month_jan</th>\n",
       "      <th>month_jul</th>\n",
       "      <th>month_jun</th>\n",
       "      <th>month_mar</th>\n",
       "      <th>month_may</th>\n",
       "      <th>month_nov</th>\n",
       "      <th>month_oct</th>\n",
       "      <th>month_sep</th>\n",
       "    </tr>\n",
       "  </thead>\n",
       "  <tbody>\n",
       "    <tr>\n",
       "      <th>0</th>\n",
       "      <td>0.519481</td>\n",
       "      <td>0</td>\n",
       "      <td>0.092259</td>\n",
       "      <td>1</td>\n",
       "      <td>0</td>\n",
       "      <td>0.0</td>\n",
       "      <td>0.0</td>\n",
       "      <td>0.0</td>\n",
       "      <td>0</td>\n",
       "      <td>0</td>\n",
       "      <td>...</td>\n",
       "      <td>0</td>\n",
       "      <td>0</td>\n",
       "      <td>0</td>\n",
       "      <td>0</td>\n",
       "      <td>0</td>\n",
       "      <td>0</td>\n",
       "      <td>1</td>\n",
       "      <td>0</td>\n",
       "      <td>0</td>\n",
       "      <td>0</td>\n",
       "    </tr>\n",
       "    <tr>\n",
       "      <th>1</th>\n",
       "      <td>0.337662</td>\n",
       "      <td>0</td>\n",
       "      <td>0.073067</td>\n",
       "      <td>1</td>\n",
       "      <td>0</td>\n",
       "      <td>0.0</td>\n",
       "      <td>0.0</td>\n",
       "      <td>0.0</td>\n",
       "      <td>0</td>\n",
       "      <td>0</td>\n",
       "      <td>...</td>\n",
       "      <td>0</td>\n",
       "      <td>0</td>\n",
       "      <td>0</td>\n",
       "      <td>0</td>\n",
       "      <td>0</td>\n",
       "      <td>0</td>\n",
       "      <td>1</td>\n",
       "      <td>0</td>\n",
       "      <td>0</td>\n",
       "      <td>0</td>\n",
       "    </tr>\n",
       "    <tr>\n",
       "      <th>2</th>\n",
       "      <td>0.194805</td>\n",
       "      <td>0</td>\n",
       "      <td>0.072822</td>\n",
       "      <td>1</td>\n",
       "      <td>1</td>\n",
       "      <td>0.0</td>\n",
       "      <td>0.0</td>\n",
       "      <td>0.0</td>\n",
       "      <td>0</td>\n",
       "      <td>0</td>\n",
       "      <td>...</td>\n",
       "      <td>0</td>\n",
       "      <td>0</td>\n",
       "      <td>0</td>\n",
       "      <td>0</td>\n",
       "      <td>0</td>\n",
       "      <td>0</td>\n",
       "      <td>1</td>\n",
       "      <td>0</td>\n",
       "      <td>0</td>\n",
       "      <td>0</td>\n",
       "    </tr>\n",
       "    <tr>\n",
       "      <th>3</th>\n",
       "      <td>0.376623</td>\n",
       "      <td>0</td>\n",
       "      <td>0.086476</td>\n",
       "      <td>1</td>\n",
       "      <td>0</td>\n",
       "      <td>0.0</td>\n",
       "      <td>0.0</td>\n",
       "      <td>0.0</td>\n",
       "      <td>0</td>\n",
       "      <td>0</td>\n",
       "      <td>...</td>\n",
       "      <td>0</td>\n",
       "      <td>0</td>\n",
       "      <td>0</td>\n",
       "      <td>0</td>\n",
       "      <td>0</td>\n",
       "      <td>0</td>\n",
       "      <td>1</td>\n",
       "      <td>0</td>\n",
       "      <td>0</td>\n",
       "      <td>0</td>\n",
       "    </tr>\n",
       "    <tr>\n",
       "      <th>4</th>\n",
       "      <td>0.194805</td>\n",
       "      <td>0</td>\n",
       "      <td>0.072812</td>\n",
       "      <td>0</td>\n",
       "      <td>0</td>\n",
       "      <td>0.0</td>\n",
       "      <td>0.0</td>\n",
       "      <td>0.0</td>\n",
       "      <td>0</td>\n",
       "      <td>0</td>\n",
       "      <td>...</td>\n",
       "      <td>0</td>\n",
       "      <td>0</td>\n",
       "      <td>0</td>\n",
       "      <td>0</td>\n",
       "      <td>0</td>\n",
       "      <td>0</td>\n",
       "      <td>1</td>\n",
       "      <td>0</td>\n",
       "      <td>0</td>\n",
       "      <td>0</td>\n",
       "    </tr>\n",
       "  </tbody>\n",
       "</table>\n",
       "<p>5 rows × 51 columns</p>\n",
       "</div>"
      ],
      "text/plain": [
       "        age  default   balance  housing  loan  campaign  pdays  previous  \\\n",
       "0  0.519481        0  0.092259        1     0       0.0    0.0       0.0   \n",
       "1  0.337662        0  0.073067        1     0       0.0    0.0       0.0   \n",
       "2  0.194805        0  0.072822        1     1       0.0    0.0       0.0   \n",
       "3  0.376623        0  0.086476        1     0       0.0    0.0       0.0   \n",
       "4  0.194805        0  0.072812        0     0       0.0    0.0       0.0   \n",
       "\n",
       "   poutcome  Target  ...  month_dec  month_feb  month_jan  month_jul  \\\n",
       "0         0       0  ...          0          0          0          0   \n",
       "1         0       0  ...          0          0          0          0   \n",
       "2         0       0  ...          0          0          0          0   \n",
       "3         0       0  ...          0          0          0          0   \n",
       "4         0       0  ...          0          0          0          0   \n",
       "\n",
       "   month_jun  month_mar  month_may  month_nov  month_oct  month_sep  \n",
       "0          0          0          1          0          0          0  \n",
       "1          0          0          1          0          0          0  \n",
       "2          0          0          1          0          0          0  \n",
       "3          0          0          1          0          0          0  \n",
       "4          0          0          1          0          0          0  \n",
       "\n",
       "[5 rows x 51 columns]"
      ]
     },
     "execution_count": 57,
     "metadata": {},
     "output_type": "execute_result"
    }
   ],
   "source": [
    "# Importing the dataset\n",
    "Path = \"C:/Users/user/Desktop/Great Learning/Supervised learning/Project 4_Ensemble techniques/Dataset/oh_encoded.csv\"\n",
    "oh_encod = pd.read_csv(Path)\n",
    "oh_encod.head()"
   ]
  },
  {
   "cell_type": "code",
   "execution_count": 58,
   "metadata": {},
   "outputs": [],
   "source": [
    "# Object creation for independent and dependent variables for label encoded data\n",
    "X_oh = oh_encod.loc[:, oh_encod.columns != \"Target\"]\n",
    "y_oh = oh_encod.loc[:, oh_encod.columns == \"Target\"] "
   ]
  },
  {
   "cell_type": "markdown",
   "metadata": {},
   "source": [
    "### Feature selection"
   ]
  },
  {
   "cell_type": "markdown",
   "metadata": {},
   "source": [
    "#### Note :\n",
    "Not all the features are importnance i.e. singificant predicting (explanatory power) capability on the outcome variable (Target). So, we are not going include all the features to our model mainly beacuse of -\n",
    "          i) To remove some of the less signficant varaibles \n",
    "          ii) To Reduce dimentionality and include only the signicant one to address the computational complexity.\n",
    "          \n",
    "We can use -  \n",
    "           a) random forest and then select importance features by mentioning the cut-off (thresold limit to be included in the            selected list of the variables\n",
    "           b) PCA (principle component analysis) to select the important set of variables by mentioning the thresold to capture            the desired variance limit.\n",
    "For our analysis , we will be using PCA to select impotant variables to capture 95% of the variance."
   ]
  },
  {
   "cell_type": "code",
   "execution_count": 59,
   "metadata": {},
   "outputs": [
    {
     "data": {
      "text/plain": [
       "(45211, 28)"
      ]
     },
     "execution_count": 59,
     "metadata": {},
     "output_type": "execute_result"
    }
   ],
   "source": [
    "# PCA to select important features\n",
    "pca = PCA(n_components=0.95)\n",
    "x_pca = pca.fit_transform(X_oh)\n",
    "x_pca.shape"
   ]
  },
  {
   "cell_type": "markdown",
   "metadata": {},
   "source": [
    "##### ** Out of 51 variables in the one-hot encoded datasets , only 28 varaibles are good enough to explain 95% variablilty of the dataset. So, for all our algorithm we will be using this 28 variables to train and test our model"
   ]
  },
  {
   "cell_type": "code",
   "execution_count": 60,
   "metadata": {},
   "outputs": [],
   "source": [
    "# Creation of Training and test dataset\n",
    "X_train_oh, X_test_oh, y_train_oh, y_test_oh = train_test_split(x_pca, y_oh, test_size=0.3, random_state=123)"
   ]
  },
  {
   "cell_type": "code",
   "execution_count": 61,
   "metadata": {},
   "outputs": [
    {
     "data": {
      "text/plain": [
       "(31647, 28)"
      ]
     },
     "execution_count": 61,
     "metadata": {},
     "output_type": "execute_result"
    }
   ],
   "source": [
    "# Checking the shape of the new dataset\n",
    "X_train_oh.shape"
   ]
  },
  {
   "cell_type": "code",
   "execution_count": 62,
   "metadata": {},
   "outputs": [
    {
     "name": "stdout",
     "output_type": "stream",
     "text": [
      "0.7\n",
      "0.3\n"
     ]
    }
   ],
   "source": [
    "# Checking whether training and test dataset splited with right ratio or not.\n",
    "for i in (y_train_oh,y_test_oh):\n",
    "   print(round(len(i)/len(y_oh),2))"
   ]
  },
  {
   "cell_type": "markdown",
   "metadata": {},
   "source": [
    "# SEC 5. Model development"
   ]
  },
  {
   "cell_type": "markdown",
   "metadata": {},
   "source": [
    "### Note :\n",
    "We will be using the one-hot encoded data first to develop our model since most of the machine learning algorithm (except decision tree and random forest) perform well with one-hot encoded data. Also, We be using the label encoded data to evaluate the model performance. Finally, We will keep the dataset in which model performance will be the best.\n",
    "We will develop and evaluate our model using -\n",
    "  a. Logistic regression (Linear features and polynomial degree of 2 & 3)\n",
    "  b. Naive bayes\n",
    "  c. KNN (KNNeighbors Classification)\n",
    "  d. Support Vector Machine (SVM)\n",
    "  e. Decision Tree Classifier\n",
    "  f. Random Forest Classifier\n",
    "  g. Boosting model (Gradient and Ada boosting)"
   ]
  },
  {
   "cell_type": "markdown",
   "metadata": {},
   "source": [
    "## 5.1. Logistic regression"
   ]
  },
  {
   "cell_type": "markdown",
   "metadata": {},
   "source": [
    "#### 5.1.1. With linear features"
   ]
  },
  {
   "cell_type": "code",
   "execution_count": 75,
   "metadata": {},
   "outputs": [
    {
     "name": "stdout",
     "output_type": "stream",
     "text": [
      "Accuracy: 0.8897817752875258\n",
      "Confusion Matrix:\n",
      " [[11944    54]\n",
      " [ 1441   125]]\n",
      "Classification Score:\n",
      "               precision    recall  f1-score   support\n",
      "\n",
      "           0       0.89      1.00      0.94     11998\n",
      "           1       0.70      0.08      0.14      1566\n",
      "\n",
      "   micro avg       0.89      0.89      0.89     13564\n",
      "   macro avg       0.80      0.54      0.54     13564\n",
      "weighted avg       0.87      0.89      0.85     13564\n",
      "\n"
     ]
    }
   ],
   "source": [
    "LogReg = LogisticRegression() \n",
    "LogReg.fit(X_train_oh, y_train_oh)\n",
    "y_expect=y_test_oh\n",
    "y_pred = LogReg.predict(X_test_oh)\n",
    "print(\"Accuracy:\",accuracy_score(y_expect,y_pred))\n",
    "print(\"Confusion Matrix:\\n\",metrics.confusion_matrix(y_expect, y_pred))\n",
    "print(\"Classification Score:\\n\",metrics.classification_report(y_expect, y_pred))"
   ]
  },
  {
   "cell_type": "markdown",
   "metadata": {},
   "source": [
    "##### ** Overall accuracy is decent enough but class level accuracy can be improved. Let's tune the model with higher degree of input variables and see is there any performance improvement as such or not."
   ]
  },
  {
   "cell_type": "markdown",
   "metadata": {},
   "source": [
    "#### 5.1.2 With ploynomial degree of two"
   ]
  },
  {
   "cell_type": "code",
   "execution_count": 76,
   "metadata": {},
   "outputs": [],
   "source": [
    "poly_2 = PolynomialFeatures(degree=2)\n",
    "X_train_oh_2 = poly_2.fit_transform(X_train_oh)"
   ]
  },
  {
   "cell_type": "code",
   "execution_count": 77,
   "metadata": {},
   "outputs": [
    {
     "name": "stdout",
     "output_type": "stream",
     "text": [
      "Accuracy: 0.8925095841934533\n",
      "Confusion Matrix:\n",
      " [[11839   159]\n",
      " [ 1299   267]]\n",
      "Classification Score:\n",
      "               precision    recall  f1-score   support\n",
      "\n",
      "           0       0.90      0.99      0.94     11998\n",
      "           1       0.63      0.17      0.27      1566\n",
      "\n",
      "   micro avg       0.89      0.89      0.89     13564\n",
      "   macro avg       0.76      0.58      0.61     13564\n",
      "weighted avg       0.87      0.89      0.86     13564\n",
      "\n"
     ]
    }
   ],
   "source": [
    "LogReg.fit(X_train_oh_2, y_train_oh)\n",
    "y_expect=y_test_oh\n",
    "y_pred = LogReg.predict(poly_2.fit_transform(X_test_oh))\n",
    "print(\"Accuracy:\",accuracy_score(y_expect,y_pred))\n",
    "print(\"Confusion Matrix:\\n\",metrics.confusion_matrix(y_expect, y_pred))\n",
    "print(\"Classification Score:\\n\",metrics.classification_report(y_expect, y_pred))"
   ]
  },
  {
   "cell_type": "markdown",
   "metadata": {},
   "source": [
    "##### ** Overall acuracy has improved marginaly but class level accuracy has dropped."
   ]
  },
  {
   "cell_type": "markdown",
   "metadata": {},
   "source": [
    "#### 5.1.3 With ploynomial degree of three"
   ]
  },
  {
   "cell_type": "code",
   "execution_count": 78,
   "metadata": {},
   "outputs": [],
   "source": [
    "poly_3 = PolynomialFeatures(degree=3)\n",
    "X_train_oh_3 = poly_3.fit_transform(X_train_oh)"
   ]
  },
  {
   "cell_type": "code",
   "execution_count": 79,
   "metadata": {},
   "outputs": [
    {
     "name": "stdout",
     "output_type": "stream",
     "text": [
      "Accuracy: 0.8828516661751695\n",
      "Confusion Matrix:\n",
      " [[11671   327]\n",
      " [ 1262   304]]\n",
      "Classification Score:\n",
      "               precision    recall  f1-score   support\n",
      "\n",
      "           0       0.90      0.97      0.94     11998\n",
      "           1       0.48      0.19      0.28      1566\n",
      "\n",
      "   micro avg       0.88      0.88      0.88     13564\n",
      "   macro avg       0.69      0.58      0.61     13564\n",
      "weighted avg       0.85      0.88      0.86     13564\n",
      "\n"
     ]
    }
   ],
   "source": [
    "LogReg.fit(X_train_oh_3, y_train_oh)\n",
    "y_expect=y_test_oh\n",
    "y_pred = LogReg.predict(poly_3.fit_transform(X_test_oh))\n",
    "print(\"Accuracy:\",accuracy_score(y_expect,y_pred))\n",
    "print(\"Confusion Matrix:\\n\",metrics.confusion_matrix(y_expect, y_pred))\n",
    "print(\"Classification Score:\\n\",metrics.classification_report(y_expect, y_pred))"
   ]
  },
  {
   "cell_type": "markdown",
   "metadata": {},
   "source": [
    "##### ** With the higher degree of input variabls, both overall and class level acuracy has been dropped. The model is performing best with linear features only. Let assess the model perfomance with label encoded data."
   ]
  },
  {
   "cell_type": "markdown",
   "metadata": {},
   "source": [
    "#### 5.1.4 With label encoded data"
   ]
  },
  {
   "cell_type": "code",
   "execution_count": 80,
   "metadata": {},
   "outputs": [
    {
     "name": "stdout",
     "output_type": "stream",
     "text": [
      "Accuracy: 0.8841049837805957\n",
      "Confusion Matrix:\n",
      " [[11982    16]\n",
      " [ 1556    10]]\n",
      "Classification Score:\n",
      "               precision    recall  f1-score   support\n",
      "\n",
      "           0       0.89      1.00      0.94     11998\n",
      "           1       0.38      0.01      0.01      1566\n",
      "\n",
      "   micro avg       0.88      0.88      0.88     13564\n",
      "   macro avg       0.63      0.50      0.48     13564\n",
      "weighted avg       0.83      0.88      0.83     13564\n",
      "\n"
     ]
    }
   ],
   "source": [
    "LogReg.fit(X_train_le, y_train_le)\n",
    "y_expect=y_test_le\n",
    "y_pred = LogReg.predict(X_test_le)\n",
    "print(\"Accuracy:\",accuracy_score(y_expect,y_pred))\n",
    "print(\"Confusion Matrix:\\n\",metrics.confusion_matrix(y_expect, y_pred))\n",
    "print(\"Classification Score:\\n\",metrics.classification_report(y_expect, y_pred))"
   ]
  },
  {
   "cell_type": "markdown",
   "metadata": {},
   "source": [
    "##### ** The model accruacy with lable encoded data is less comapred to the model accuracy with linear features of one-hot encoded data. It is quite expected since most the algorith including logistic regression perfoms best with numeric input variables."
   ]
  },
  {
   "cell_type": "markdown",
   "metadata": {},
   "source": [
    "## 5.2. Naive bayes"
   ]
  },
  {
   "cell_type": "markdown",
   "metadata": {},
   "source": [
    "#### 5.2.1 With hot-encoded data"
   ]
  },
  {
   "cell_type": "code",
   "execution_count": 81,
   "metadata": {},
   "outputs": [
    {
     "name": "stdout",
     "output_type": "stream",
     "text": [
      "Accuracy: 0.8361840165143025\n",
      "Confusion Matrix:\n",
      " [[10811  1187]\n",
      " [ 1035   531]]\n",
      "Classification Report:\n",
      "               precision    recall  f1-score   support\n",
      "\n",
      "           0       0.91      0.90      0.91     11998\n",
      "           1       0.31      0.34      0.32      1566\n",
      "\n",
      "   micro avg       0.84      0.84      0.84     13564\n",
      "   macro avg       0.61      0.62      0.62     13564\n",
      "weighted avg       0.84      0.84      0.84     13564\n",
      "\n"
     ]
    }
   ],
   "source": [
    "NB_cl = GaussianNB()\n",
    "NB_cl.fit(X_train_oh, y_train_oh)\n",
    "y_expect = y_test_oh\n",
    "y_pred = NB_cl.predict(X_test_oh)\n",
    "print(\"Accuracy:\", accuracy_score(y_expect,y_pred))\n",
    "print(\"Confusion Matrix:\\n\", metrics.confusion_matrix(y_expect, y_pred))\n",
    "print(\"Classification Report:\\n\", metrics.classification_report(y_expect, y_pred))"
   ]
  },
  {
   "cell_type": "markdown",
   "metadata": {},
   "source": [
    "#### 5.2.2 With label encoded data"
   ]
  },
  {
   "cell_type": "code",
   "execution_count": 82,
   "metadata": {},
   "outputs": [
    {
     "name": "stdout",
     "output_type": "stream",
     "text": [
      "Accuracy: 0.791064582718962\n",
      "Confusion Matrix:\n",
      " [[10112  1886]\n",
      " [  948   618]]\n",
      "Classification Report:\n",
      "               precision    recall  f1-score   support\n",
      "\n",
      "           0       0.91      0.84      0.88     11998\n",
      "           1       0.25      0.39      0.30      1566\n",
      "\n",
      "   micro avg       0.79      0.79      0.79     13564\n",
      "   macro avg       0.58      0.62      0.59     13564\n",
      "weighted avg       0.84      0.79      0.81     13564\n",
      "\n"
     ]
    }
   ],
   "source": [
    "NB_cl = GaussianNB()\n",
    "NB_cl.fit(X_train_le, y_train_le)\n",
    "y_expect = y_test_le\n",
    "y_pred = NB_cl.predict(X_test_le)\n",
    "print(\"Accuracy:\", accuracy_score(y_expect,y_pred))\n",
    "print(\"Confusion Matrix:\\n\", metrics.confusion_matrix(y_expect, y_pred))\n",
    "print(\"Classification Report:\\n\", metrics.classification_report(y_expect, y_pred))"
   ]
  },
  {
   "cell_type": "markdown",
   "metadata": {},
   "source": [
    "##### ** Overall and class level accuracy low compared to logistic regression model for both label encoded and one-hot encoded data. Here also, the model with one-hot encoded dataset performing well compared to othe one."
   ]
  },
  {
   "cell_type": "markdown",
   "metadata": {},
   "source": [
    "## 5.3. KNN (KNNeighbors Classification)"
   ]
  },
  {
   "cell_type": "markdown",
   "metadata": {},
   "source": [
    "#### 5.3.1. With one-hot coded data"
   ]
  },
  {
   "cell_type": "code",
   "execution_count": 83,
   "metadata": {},
   "outputs": [
    {
     "name": "stdout",
     "output_type": "stream",
     "text": [
      "Accuracy: 0.8801238572692421\n",
      "Confusion Matrix:\n",
      " [[11667   331]\n",
      " [ 1295   271]]\n",
      "Classification Report:\n",
      "               precision    recall  f1-score   support\n",
      "\n",
      "           0       0.90      0.97      0.93     11998\n",
      "           1       0.45      0.17      0.25      1566\n",
      "\n",
      "   micro avg       0.88      0.88      0.88     13564\n",
      "   macro avg       0.68      0.57      0.59     13564\n",
      "weighted avg       0.85      0.88      0.86     13564\n",
      "\n"
     ]
    }
   ],
   "source": [
    "clf=KNeighborsClassifier(n_jobs=-1)\n",
    "clf.fit(X_train_oh, y_train_oh)\n",
    "y_expect=y_test_oh\n",
    "y_pred = clf.predict(X_test_oh)\n",
    "print(\"Accuracy:\", accuracy_score(y_expect,y_pred))\n",
    "print(\"Confusion Matrix:\\n\", metrics.confusion_matrix(y_expect, y_pred))\n",
    "print(\"Classification Report:\\n\", metrics.classification_report(y_expect, y_pred))"
   ]
  },
  {
   "cell_type": "markdown",
   "metadata": {},
   "source": [
    "#### 5.3.2. With label coded data"
   ]
  },
  {
   "cell_type": "code",
   "execution_count": 84,
   "metadata": {},
   "outputs": [
    {
     "name": "stdout",
     "output_type": "stream",
     "text": [
      "Accuracy: 0.884399882040696\n",
      "Confusion Matrix:\n",
      " [[11712   286]\n",
      " [ 1282   284]]\n",
      "Classification Report:\n",
      "               precision    recall  f1-score   support\n",
      "\n",
      "           0       0.90      0.98      0.94     11998\n",
      "           1       0.50      0.18      0.27      1566\n",
      "\n",
      "   micro avg       0.88      0.88      0.88     13564\n",
      "   macro avg       0.70      0.58      0.60     13564\n",
      "weighted avg       0.85      0.88      0.86     13564\n",
      "\n"
     ]
    }
   ],
   "source": [
    "clf=KNeighborsClassifier(n_jobs=-1)\n",
    "clf.fit(X_train_le, y_train_le)\n",
    "y_expect= y_test_le\n",
    "y_pred = clf.predict(X_test_le)\n",
    "print(\"Accuracy:\", accuracy_score(y_expect,y_pred))\n",
    "print(\"Confusion Matrix:\\n\", metrics.confusion_matrix(y_expect, y_pred))\n",
    "print(\"Classification Report:\\n\", metrics.classification_report(y_expect, y_pred))"
   ]
  },
  {
   "cell_type": "code",
   "execution_count": null,
   "metadata": {},
   "outputs": [],
   "source": [
    "# Model tunning with hyper parameter\n",
    "KNN = KNeighborsClassifier(n_jobs=-1)\n",
    "params = {'algorithm':['auto', 'ball_tree', 'kd_tree'],\n",
    "          'n_neighbors':[3,5,7,9],\n",
    "          'leaf_size':[1,2,3,4,5],\n",
    "          'weights':['uniform','distance'],\n",
    "          'n_jobs':[-1]}\n",
    "KNN1 = GridSearchCV(KNN, param_grid= params,n_jobs=-1)\n",
    "KNN1.fit(X_train_oh, y_train_oh)\n",
    "print(\"Best Hyper Parameters:\", KNN1.best_params_)\n",
    "y_expect = y_test_oh\n",
    "y_pred = KNN1.predict(X_test_oh)\n",
    "print(\"Accuracy:\", accuracy_score(y_expect, y_pred))\n",
    "print(\"Confusion_Matrix:\\n\", metrics.confusion_matrix(y_expect, y_pred))\n",
    "print(\"Classification report:\\n\", metrics.classification_report(y_expect, y_pred))"
   ]
  },
  {
   "cell_type": "markdown",
   "metadata": {},
   "source": [
    "##### ** Not significant performace improvement for both overall and class level accuracy"
   ]
  },
  {
   "cell_type": "markdown",
   "metadata": {},
   "source": [
    "## 5.4. Support Vector Machine (SVM)"
   ]
  },
  {
   "cell_type": "markdown",
   "metadata": {},
   "source": [
    "#### 5.4.1. With one-hot coded data"
   ]
  },
  {
   "cell_type": "code",
   "execution_count": 50,
   "metadata": {},
   "outputs": [
    {
     "name": "stdout",
     "output_type": "stream",
     "text": [
      "Accuracy: 0.8935417281038042\n",
      "Confusion_Matrix:\n",
      " [[11840   158]\n",
      " [ 1286   280]]\n",
      "Classification report:\n",
      "               precision    recall  f1-score   support\n",
      "\n",
      "           0       0.90      0.99      0.94     11998\n",
      "           1       0.64      0.18      0.28      1566\n",
      "\n",
      "   micro avg       0.89      0.89      0.89     13564\n",
      "   macro avg       0.77      0.58      0.61     13564\n",
      "weighted avg       0.87      0.89      0.87     13564\n",
      "\n"
     ]
    }
   ],
   "source": [
    "SVM = svm.SVC(random_state=1234) \n",
    "SVM.fit(X_train_oh, y_train_oh)\n",
    "y_expect = y_test_oh\n",
    "y_pred = SVM.predict(X_test_oh)\n",
    "print(\"Accuracy:\", accuracy_score(y_expect, y_pred))\n",
    "print(\"Confusion_Matrix:\\n\", metrics.confusion_matrix(y_expect, y_pred))\n",
    "print(\"Classification report:\\n\", metrics.classification_report(y_expect, y_pred))"
   ]
  },
  {
   "cell_type": "markdown",
   "metadata": {},
   "source": [
    "#### 5.4.2. With label encoded data"
   ]
  },
  {
   "cell_type": "code",
   "execution_count": 51,
   "metadata": {},
   "outputs": [
    {
     "name": "stdout",
     "output_type": "stream",
     "text": [
      "Accuracy: 0.8852845768209967\n",
      "Confusion_Matrix:\n",
      " [[11981    17]\n",
      " [ 1539    27]]\n",
      "Classification report:\n",
      "               precision    recall  f1-score   support\n",
      "\n",
      "           0       0.89      1.00      0.94     11998\n",
      "           1       0.61      0.02      0.03      1566\n",
      "\n",
      "   micro avg       0.89      0.89      0.89     13564\n",
      "   macro avg       0.75      0.51      0.49     13564\n",
      "weighted avg       0.85      0.89      0.83     13564\n",
      "\n"
     ]
    }
   ],
   "source": [
    "SVM = svm.SVC(random_state=1234) \n",
    "SVM.fit(X_train_le, y_train_le)\n",
    "y_expect = y_test_le\n",
    "y_pred = SVM.predict(X_test_le)\n",
    "print(\"Accuracy:\", accuracy_score(y_expect, y_pred))\n",
    "print(\"Confusion_Matrix:\\n\", metrics.confusion_matrix(y_expect, y_pred))\n",
    "print(\"Classification report:\\n\", metrics.classification_report(y_expect, y_pred))"
   ]
  },
  {
   "cell_type": "markdown",
   "metadata": {},
   "source": [
    "##### ** As the model performing better with label encoded data, we will fine tune the model with hyper parameter using label encoded data."
   ]
  },
  {
   "cell_type": "code",
   "execution_count": 58,
   "metadata": {},
   "outputs": [
    {
     "name": "stdout",
     "output_type": "stream",
     "text": [
      "Best Hyper Parameters:\n",
      " {'C': 11, 'gamma': 0.1, 'kernel': 'rbf'}\n",
      "Accuracy: 0.8936891772338543\n",
      "Confusion Matrix:\n",
      " [[11856   142]\n",
      " [ 1300   266]]\n",
      "Classification report:\n",
      "               precision    recall  f1-score   support\n",
      "\n",
      "           0       0.90      0.99      0.94     11998\n",
      "           1       0.65      0.17      0.27      1566\n",
      "\n",
      "   micro avg       0.89      0.89      0.89     13564\n",
      "   macro avg       0.78      0.58      0.61     13564\n",
      "weighted avg       0.87      0.89      0.86     13564\n",
      "\n"
     ]
    }
   ],
   "source": [
    "# Model tunning with hyper parameter\n",
    "\n",
    "# Creating an object to train the model\n",
    "model=SVC(random_state=123)\n",
    "# Setting the hyper parameter\n",
    "params = {'C': [6,7,8,9,10,11,12,13,14,15,16,17,18,19,20], \n",
    "          'kernel': ['linear','rbf','sigmoid'],\n",
    "         'gamma':[0.001,0.01,0.1,1,10,100]}\n",
    "# Creating model with hyper parameters sets\n",
    "model1 = GridSearchCV(model, param_grid=params, n_jobs=-1)\n",
    "model1.fit(X_train_oh, y_train_oh)\n",
    "print(\"Best Hyper Parameters:\\n\",model1.best_params_)\n",
    "y_pred = model1.predict(X_test_oh)\n",
    "y_expect = y_test_oh\n",
    "print(\"Accuracy:\", accuracy_score(y_expect,y_pred))\n",
    "print(\"Confusion Matrix:\\n\", metrics.confusion_matrix(y_expect, y_pred))\n",
    "print('Classification report:\\n', metrics.classification_report(y_expect, y_pred))"
   ]
  },
  {
   "cell_type": "markdown",
   "metadata": {},
   "source": [
    "##### ** Very marginal improvement of class level accuracy with hyper parameter using one-hot encoded data"
   ]
  },
  {
   "cell_type": "markdown",
   "metadata": {},
   "source": [
    "## 5.5. Decision Tree Classifier"
   ]
  },
  {
   "cell_type": "markdown",
   "metadata": {},
   "source": [
    "#### 5.5.1. With one-hot coded data"
   ]
  },
  {
   "cell_type": "code",
   "execution_count": 52,
   "metadata": {},
   "outputs": [
    {
     "name": "stdout",
     "output_type": "stream",
     "text": [
      "Accuracy: 0.8257151282807431\n",
      "Confusion_Matrix:\n",
      " [[10764  1234]\n",
      " [ 1130   436]]\n",
      "Classification report:\n",
      "               precision    recall  f1-score   support\n",
      "\n",
      "           0       0.90      0.90      0.90     11998\n",
      "           1       0.26      0.28      0.27      1566\n",
      "\n",
      "   micro avg       0.83      0.83      0.83     13564\n",
      "   macro avg       0.58      0.59      0.59     13564\n",
      "weighted avg       0.83      0.83      0.83     13564\n",
      "\n"
     ]
    }
   ],
   "source": [
    "DT = DecisionTreeClassifier(random_state=1234)\n",
    "DT.fit(X_train_oh, y_train_oh)\n",
    "y_expect = y_test_oh\n",
    "y_pred = DT.predict(X_test_oh)\n",
    "print(\"Accuracy:\", accuracy_score(y_expect, y_pred))\n",
    "print(\"Confusion_Matrix:\\n\", metrics.confusion_matrix(y_expect, y_pred))\n",
    "print(\"Classification report:\\n\", metrics.classification_report(y_expect, y_pred))"
   ]
  },
  {
   "cell_type": "markdown",
   "metadata": {},
   "source": [
    "#### 5.5.2. With label encoded data"
   ]
  },
  {
   "cell_type": "code",
   "execution_count": 53,
   "metadata": {},
   "outputs": [
    {
     "name": "stdout",
     "output_type": "stream",
     "text": [
      "Accuracy: 0.8215865526393394\n",
      "Confusion_Matrix:\n",
      " [[10660  1338]\n",
      " [ 1082   484]]\n",
      "Classification report:\n",
      "               precision    recall  f1-score   support\n",
      "\n",
      "           0       0.91      0.89      0.90     11998\n",
      "           1       0.27      0.31      0.29      1566\n",
      "\n",
      "   micro avg       0.82      0.82      0.82     13564\n",
      "   macro avg       0.59      0.60      0.59     13564\n",
      "weighted avg       0.83      0.82      0.83     13564\n",
      "\n"
     ]
    }
   ],
   "source": [
    "DT = DecisionTreeClassifier(random_state=1234)\n",
    "DT.fit(X_train_le, y_train_le)\n",
    "y_expect = y_test_le\n",
    "y_pred = DT.predict(X_test_le)\n",
    "print(\"Accuracy:\", accuracy_score(y_expect, y_pred))\n",
    "print(\"Confusion_Matrix:\\n\", metrics.confusion_matrix(y_expect, y_pred))\n",
    "print(\"Classification report:\\n\", metrics.classification_report(y_expect, y_pred))"
   ]
  },
  {
   "cell_type": "markdown",
   "metadata": {},
   "source": [
    "##### ** Accuracy (classwise) is slightly better, so we will fine tune the model with hyperparameter using label encoded data."
   ]
  },
  {
   "cell_type": "code",
   "execution_count": 54,
   "metadata": {},
   "outputs": [
    {
     "name": "stdout",
     "output_type": "stream",
     "text": [
      "Best Hyper Parameters: {'max_features': 'auto', 'min_samples_leaf': 11, 'min_samples_split': 2, 'random_state': 123}\n",
      "Accuracy: 0.8888233559422\n",
      "Confusion Metrix:\n",
      " [[11751   247]\n",
      " [ 1261   305]]\n",
      "Classification_report:\n",
      "               precision    recall  f1-score   support\n",
      "\n",
      "           0       0.90      0.98      0.94     11998\n",
      "           1       0.55      0.19      0.29      1566\n",
      "\n",
      "   micro avg       0.89      0.89      0.89     13564\n",
      "   macro avg       0.73      0.59      0.61     13564\n",
      "weighted avg       0.86      0.89      0.86     13564\n",
      "\n"
     ]
    }
   ],
   "source": [
    "# Model tunning with hyperparameter\n",
    "\n",
    "# Setting the hyper parameter\n",
    "params = {'max_features': ['auto', 'sqrt', 'log2'],\n",
    "          'min_samples_split': [2,3,4,5,6,7,8,9,10,11,12,13,14,15], \n",
    "          'min_samples_leaf':[1,2,3,4,5,6,7,8,9,10,11],\n",
    "          'random_state':[123]}\n",
    "\n",
    "DT1 = GridSearchCV(DT, param_grid=params, n_jobs=-1)\n",
    "DT1.fit(X_train_le, y_train_le)\n",
    "print(\"Best Hyper Parameters:\",DT1.best_params_)\n",
    "y_pred=DT1.predict(X_test_le)\n",
    "y_expect = y_test_le\n",
    "print(\"Accuracy:\",metrics.accuracy_score(y_expect, y_pred))\n",
    "print(\"Confusion Metrix:\\n\",metrics.confusion_matrix(y_expect, y_pred))\n",
    "print(\"Classification_report:\\n\", metrics.classification_report(y_expect, y_pred))"
   ]
  },
  {
   "cell_type": "markdown",
   "metadata": {},
   "source": [
    "##### ** Using hyper parameter model performance significantly both overall and class level accuracy. "
   ]
  },
  {
   "cell_type": "markdown",
   "metadata": {},
   "source": [
    "## 5.6. Random Forest Classifier"
   ]
  },
  {
   "cell_type": "markdown",
   "metadata": {},
   "source": [
    "#### 5.6.1. With one-hot coded data"
   ]
  },
  {
   "cell_type": "code",
   "execution_count": 55,
   "metadata": {},
   "outputs": [
    {
     "name": "stdout",
     "output_type": "stream",
     "text": [
      "Accuracy: 0.86655853730463\n",
      "Confusion_Matrix:\n",
      " [[11456   542]\n",
      " [ 1268   298]]\n",
      "Classification report:\n",
      "               precision    recall  f1-score   support\n",
      "\n",
      "           0       0.90      0.95      0.93     11998\n",
      "           1       0.35      0.19      0.25      1566\n",
      "\n",
      "   micro avg       0.87      0.87      0.87     13564\n",
      "   macro avg       0.63      0.57      0.59     13564\n",
      "weighted avg       0.84      0.87      0.85     13564\n",
      "\n"
     ]
    }
   ],
   "source": [
    "RFC = RandomForestClassifier(n_jobs=-1,random_state=123)\n",
    "RFC.fit(X_train_oh, y_train_oh)\n",
    "y_expect = y_test_oh\n",
    "y_pred = RFC.predict(X_test_oh)\n",
    "print(\"Accuracy:\", accuracy_score(y_expect, y_pred))\n",
    "print(\"Confusion_Matrix:\\n\", metrics.confusion_matrix(y_expect, y_pred))\n",
    "print(\"Classification report:\\n\", metrics.classification_report(y_expect, y_pred))"
   ]
  },
  {
   "cell_type": "markdown",
   "metadata": {},
   "source": [
    "#### 5.6.2. With label coded data"
   ]
  },
  {
   "cell_type": "code",
   "execution_count": 56,
   "metadata": {},
   "outputs": [
    {
     "name": "stdout",
     "output_type": "stream",
     "text": [
      "Accuracy: 0.8891182542023002\n",
      "Confusion_Matrix:\n",
      " [[11757   241]\n",
      " [ 1263   303]]\n",
      "Classification report:\n",
      "               precision    recall  f1-score   support\n",
      "\n",
      "           0       0.90      0.98      0.94     11998\n",
      "           1       0.56      0.19      0.29      1566\n",
      "\n",
      "   micro avg       0.89      0.89      0.89     13564\n",
      "   macro avg       0.73      0.59      0.61     13564\n",
      "weighted avg       0.86      0.89      0.86     13564\n",
      "\n"
     ]
    }
   ],
   "source": [
    "RFC = RandomForestClassifier(n_jobs=-1,random_state=123)\n",
    "RFC.fit(X_train_le, y_train_le)\n",
    "y_expect = y_test_le\n",
    "y_pred = RFC.predict(X_test_le)\n",
    "print(\"Accuracy:\", accuracy_score(y_expect, y_pred))\n",
    "print(\"Confusion_Matrix:\\n\", metrics.confusion_matrix(y_expect, y_pred))\n",
    "print(\"Classification report:\\n\", metrics.classification_report(y_expect, y_pred))"
   ]
  },
  {
   "cell_type": "markdown",
   "metadata": {},
   "source": [
    "#### ** We will hyper tune the model with label encoded data since the model predictibility is higher with the dataset"
   ]
  },
  {
   "cell_type": "code",
   "execution_count": 57,
   "metadata": {},
   "outputs": [
    {
     "name": "stdout",
     "output_type": "stream",
     "text": [
      "Best hyper parameters: {'criterion': 'gini', 'min_samples_leaf': 4, 'min_samples_split': 2, 'n_estimators': 35, 'n_jobs': -1, 'random_state': 123}\n",
      "Accuracy: 0.893394278973754\n",
      "Confusion Matrix: [[11846   152]\n",
      " [ 1294   272]]\n",
      "Classification report:\n",
      "               precision    recall  f1-score   support\n",
      "\n",
      "           0       0.90      0.99      0.94     11998\n",
      "           1       0.64      0.17      0.27      1566\n",
      "\n",
      "   micro avg       0.89      0.89      0.89     13564\n",
      "   macro avg       0.77      0.58      0.61     13564\n",
      "weighted avg       0.87      0.89      0.87     13564\n",
      "\n"
     ]
    }
   ],
   "source": [
    "# Model tunning with hyper parameter\n",
    "\n",
    "# Parameter setting\n",
    "params = {'criterion':['gini','entropy'],\n",
    "    'n_estimators':[10,15,20,25,30,35],\n",
    "    'min_samples_leaf':[1,2,3,4],\n",
    "    'min_samples_split':[2,3,4,5,6,7,8],\n",
    "    'random_state':[123],\n",
    "    'n_jobs':[-1]}\n",
    "RFC1=GridSearchCV(RFC, param_grid = params, n_jobs =-1)\n",
    "RFC1.fit(X_train_le, y_train_le)\n",
    "print(\"Best hyper parameters:\", RFC1.best_params_)\n",
    "y_expect = y_test_le\n",
    "y_pred = RFC1.predict(X_test_le)\n",
    "print(\"Accuracy:\", accuracy_score(y_expect, y_pred))\n",
    "print(\"Confusion Matrix:\", metrics.confusion_matrix(y_expect, y_pred))\n",
    "print(\"Classification report:\\n\", metrics.classification_report(y_expect, y_pred))"
   ]
  },
  {
   "cell_type": "markdown",
   "metadata": {},
   "source": [
    "# 5.7. Ensemble learning"
   ]
  },
  {
   "cell_type": "markdown",
   "metadata": {},
   "source": [
    "#### 5.7.1. Bagging classifier"
   ]
  },
  {
   "cell_type": "markdown",
   "metadata": {},
   "source": [
    "###### by taking decision tree as best estimator"
   ]
  },
  {
   "cell_type": "code",
   "execution_count": 64,
   "metadata": {},
   "outputs": [],
   "source": [
    "# Calling the decision tree model with best hyperparameter\n",
    "DT = DecisionTreeClassifier(max_features='auto',min_samples_split=2,\n",
    "                            min_samples_leaf=11,random_state=1234)"
   ]
  },
  {
   "cell_type": "code",
   "execution_count": 65,
   "metadata": {},
   "outputs": [
    {
     "name": "stdout",
     "output_type": "stream",
     "text": [
      "Accuracy: 0.8945001474491301\n",
      "Confusion Metrix:\n",
      " [[11898   100]\n",
      " [ 1331   235]]\n",
      "Classification_report:\n",
      "               precision    recall  f1-score   support\n",
      "\n",
      "           0       0.90      0.99      0.94     11998\n",
      "           1       0.70      0.15      0.25      1566\n",
      "\n",
      "   micro avg       0.89      0.89      0.89     13564\n",
      "   macro avg       0.80      0.57      0.60     13564\n",
      "weighted avg       0.88      0.89      0.86     13564\n",
      "\n"
     ]
    }
   ],
   "source": [
    "# Bagging classifier object creation\n",
    "bgcl = BaggingClassifier(base_estimator= DT, n_estimators=50) # Selected 50 instances randomly \n",
    "\n",
    "# Model training and accuracy assessment \n",
    "\n",
    "bgcl = bgcl.fit(X_train_le, y_train_le)\n",
    "y_pred= bgcl.predict(X_test_le)\n",
    "y_expect = y_test_le\n",
    "print(\"Accuracy:\",metrics.accuracy_score(y_expect, y_pred))\n",
    "print(\"Confusion Metrix:\\n\",metrics.confusion_matrix(y_expect, y_pred))\n",
    "print(\"Classification_report:\\n\", metrics.classification_report(y_expect, y_pred))"
   ]
  },
  {
   "cell_type": "markdown",
   "metadata": {},
   "source": [
    "##### by taking SVM as a base model"
   ]
  },
  {
   "cell_type": "code",
   "execution_count": 53,
   "metadata": {},
   "outputs": [],
   "source": [
    "SVM = SVC(C = 11, gamma = 0.1, kernel = 'rbf', random_state=123)"
   ]
  },
  {
   "cell_type": "code",
   "execution_count": 54,
   "metadata": {},
   "outputs": [
    {
     "name": "stdout",
     "output_type": "stream",
     "text": [
      "Accuracy: 0.8929519315836036\n",
      "Confusion Metrix:\n",
      " [[11843   155]\n",
      " [ 1297   269]]\n",
      "Classification_report:\n",
      "               precision    recall  f1-score   support\n",
      "\n",
      "           0       0.90      0.99      0.94     11998\n",
      "           1       0.63      0.17      0.27      1566\n",
      "\n",
      "   micro avg       0.89      0.89      0.89     13564\n",
      "   macro avg       0.77      0.58      0.61     13564\n",
      "weighted avg       0.87      0.89      0.86     13564\n",
      "\n"
     ]
    }
   ],
   "source": [
    "# Bagging classifier object creation\n",
    "bgcl = BaggingClassifier(base_estimator= SVM, n_estimators=50) # Selected 50 instances randomly \n",
    "\n",
    "# Model training and accuracy assessment \n",
    "\n",
    "bgcl = bgcl.fit(X_train_oh, y_train_oh)\n",
    "y_pred= bgcl.predict(X_test_oh)\n",
    "y_expect = y_test_oh\n",
    "print(\"Accuracy:\",metrics.accuracy_score(y_expect, y_pred))\n",
    "print(\"Confusion Metrix:\\n\",metrics.confusion_matrix(y_expect, y_pred))\n",
    "print(\"Classification_report:\\n\", metrics.classification_report(y_expect, y_pred))\n"
   ]
  },
  {
   "cell_type": "markdown",
   "metadata": {},
   "source": [
    "#### 5.7.2 Ada Boosting "
   ]
  },
  {
   "cell_type": "code",
   "execution_count": 66,
   "metadata": {},
   "outputs": [
    {
     "name": "stdout",
     "output_type": "stream",
     "text": [
      "Accuracy: 0.8700973164258331\n",
      "Confusion Metrix:\n",
      " [[11483   515]\n",
      " [ 1247   319]]\n",
      "Classification_report:\n",
      "               precision    recall  f1-score   support\n",
      "\n",
      "           0       0.90      0.96      0.93     11998\n",
      "           1       0.38      0.20      0.27      1566\n",
      "\n",
      "   micro avg       0.87      0.87      0.87     13564\n",
      "   macro avg       0.64      0.58      0.60     13564\n",
      "weighted avg       0.84      0.87      0.85     13564\n",
      "\n"
     ]
    }
   ],
   "source": [
    "# Ada Boosting object creation\n",
    "abcl = AdaBoostClassifier(base_estimator=DT, n_estimators=50)\n",
    "\n",
    "# Model training and performance assessment \n",
    "\n",
    "abcl = abcl.fit(X_train_le, y_train_le)\n",
    "y_pred= abcl.predict(X_test_le)\n",
    "y_expect = y_test_le\n",
    "print(\"Accuracy:\",metrics.accuracy_score(y_expect, y_pred))\n",
    "print(\"Confusion Metrix:\\n\",metrics.confusion_matrix(y_expect, y_pred))\n",
    "print(\"Classification_report:\\n\", metrics.classification_report(y_expect, y_pred))"
   ]
  },
  {
   "cell_type": "markdown",
   "metadata": {},
   "source": [
    "#### 5.7.3 Gradient Boosting"
   ]
  },
  {
   "cell_type": "code",
   "execution_count": 67,
   "metadata": {},
   "outputs": [
    {
     "name": "stdout",
     "output_type": "stream",
     "text": [
      "Accuracy: 0.893246829843704\n",
      "Confusion Metrix:\n",
      " [[11884   114]\n",
      " [ 1334   232]]\n",
      "Classification_report:\n",
      "               precision    recall  f1-score   support\n",
      "\n",
      "           0       0.90      0.99      0.94     11998\n",
      "           1       0.67      0.15      0.24      1566\n",
      "\n",
      "   micro avg       0.89      0.89      0.89     13564\n",
      "   macro avg       0.78      0.57      0.59     13564\n",
      "weighted avg       0.87      0.89      0.86     13564\n",
      "\n"
     ]
    }
   ],
   "source": [
    "# Creating object of Gradient boosting classifier\n",
    "gbcl = GradientBoostingClassifier(n_estimators = 50)\n",
    "\n",
    "# Model training and performance assessment\n",
    "gbcl = gbcl.fit(X_train_le, y_train_le)\n",
    "y_pred= gbcl.predict(X_test_le)\n",
    "y_expect = y_test_le\n",
    "print(\"Accuracy:\",metrics.accuracy_score(y_expect, y_pred))\n",
    "print(\"Confusion Metrix:\\n\",metrics.confusion_matrix(y_expect, y_pred))\n",
    "print(\"Classification_report:\\n\", metrics.classification_report(y_expect, y_pred))"
   ]
  },
  {
   "cell_type": "markdown",
   "metadata": {},
   "source": [
    "# SEC 6. OBSERVATIONS AND CONCLUSION"
   ]
  },
  {
   "cell_type": "markdown",
   "metadata": {},
   "source": [
    "#### The best performing models are -\n",
    "\n",
    "i) Logistic regression using linear features   \n",
    "ii) Support vector machine tunned with hyper parameter   \n",
    "iv) Random forest tunned with hyper parameter   \n",
    "v) Ensembling learning with Bagging and Gradient boosting method.   \n",
    "\n",
    "We need to asses the which model is really performing well with out-of sample data. Since, the model perfomance interms of overall and class wise accuracy is highest for Ensembling learning with Bagging method, we can choose this model as a best estimator to predict the customers who are likely to subscribe to bank's loan product."
   ]
  }
 ],
 "metadata": {
  "kernelspec": {
   "display_name": "Python 3",
   "language": "python",
   "name": "python3"
  },
  "language_info": {
   "codemirror_mode": {
    "name": "ipython",
    "version": 3
   },
   "file_extension": ".py",
   "mimetype": "text/x-python",
   "name": "python",
   "nbconvert_exporter": "python",
   "pygments_lexer": "ipython3",
   "version": "3.7.3"
  }
 },
 "nbformat": 4,
 "nbformat_minor": 2
}
